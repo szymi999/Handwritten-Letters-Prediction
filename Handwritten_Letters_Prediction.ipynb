{
 "cells": [
  {
   "cell_type": "markdown",
   "metadata": {},
   "source": [
    "# Importing libraries and load data"
   ]
  },
  {
   "cell_type": "code",
   "execution_count": 1,
   "metadata": {},
   "outputs": [
    {
     "name": "stdout",
     "output_type": "stream",
     "text": [
      "pygame 1.9.6\n",
      "Hello from the pygame community. https://www.pygame.org/contribute.html\n"
     ]
    },
    {
     "name": "stderr",
     "output_type": "stream",
     "text": [
      "Using TensorFlow backend.\n"
     ]
    },
    {
     "name": "stdout",
     "output_type": "stream",
     "text": [
      "(60000, 28, 28)\n",
      "(60000,)\n",
      "(10000, 28, 28)\n",
      "(10000,)\n"
     ]
    }
   ],
   "source": [
    "import numpy as np\n",
    "import matplotlib.pyplot as plt\n",
    "import pygame\n",
    "from keras.datasets import mnist\n",
    "from keras.utils import np_utils\n",
    "\n",
    "\n",
    "(x_train, y_train), (x_test, y_test) = mnist.load_data()\n",
    "\n",
    "print(x_train.shape)\n",
    "print(y_train.shape)\n",
    "print(x_test.shape)\n",
    "print(y_test.shape)"
   ]
  },
  {
   "cell_type": "markdown",
   "metadata": {},
   "source": [
    "# Understanding data"
   ]
  },
  {
   "cell_type": "code",
   "execution_count": 2,
   "metadata": {},
   "outputs": [
    {
     "data": {
      "image/png": "[encoded data removed]",
      "text/plain": [
       "<Figure size 1152x576 with 4 Axes>"
      ]
     },
     "metadata": {
      "needs_background": "light"
     },
     "output_type": "display_data"
    }
   ],
   "source": [
    "plt.figure(figsize=(16,8))\n",
    "for i in range(4):\n",
    "    plt.subplot(2,2,i+1)\n",
    "    plt.imshow(x_train[i], cmap='gray')\n",
    "plt.show()"
   ]
  },
  {
   "cell_type": "code",
   "execution_count": 3,
   "metadata": {},
   "outputs": [
    {
     "name": "stdout",
     "output_type": "stream",
     "text": [
      "0\n",
      "253\n"
     ]
    }
   ],
   "source": [
    "print(x_train[0][0][0])\n",
    "print(x_train[0][7][15])"
   ]
  },
  {
   "cell_type": "markdown",
   "metadata": {},
   "source": [
    "Images are represented in one channel"
   ]
  },
  {
   "cell_type": "markdown",
   "metadata": {},
   "source": [
    "From 0(black) to 255(white)"
   ]
  },
  {
   "cell_type": "markdown",
   "metadata": {},
   "source": [
    "Background has value 0, and everything that has been written has value greater than 0"
   ]
  },
  {
   "cell_type": "code",
   "execution_count": 4,
   "metadata": {},
   "outputs": [
    {
     "data": {
      "text/plain": [
       "5"
      ]
     },
     "execution_count": 4,
     "metadata": {},
     "output_type": "execute_result"
    }
   ],
   "source": [
    "y_train[0]"
   ]
  },
  {
   "cell_type": "markdown",
   "metadata": {},
   "source": [
    "I need a matrix with zeros and one on 5th index for y"
   ]
  },
  {
   "cell_type": "markdown",
   "metadata": {},
   "source": [
    "# Preparing data"
   ]
  },
  {
   "cell_type": "code",
   "execution_count": 5,
   "metadata": {},
   "outputs": [],
   "source": [
    "x_train = x_train.reshape((x_train.shape[0], x_train.shape[1]**2))\n",
    "x_test = x_test.reshape(x_test.shape[0], x_test.shape[1]**2)"
   ]
  },
  {
   "cell_type": "code",
   "execution_count": 6,
   "metadata": {},
   "outputs": [
    {
     "data": {
      "text/plain": [
       "(60000, 784)"
      ]
     },
     "execution_count": 6,
     "metadata": {},
     "output_type": "execute_result"
    }
   ],
   "source": [
    "x_train.shape"
   ]
  },
  {
   "cell_type": "code",
   "execution_count": 7,
   "metadata": {},
   "outputs": [],
   "source": [
    "x_train = x_train/255.\n",
    "x_test = x_test/255."
   ]
  },
  {
   "cell_type": "code",
   "execution_count": 8,
   "metadata": {},
   "outputs": [
    {
     "data": {
      "text/plain": [
       "array([0.        , 0.        , 0.        , 0.        , 0.        ,\n",
       "       0.        , 0.        , 0.        , 0.        , 0.        ,\n",
       "       0.        , 0.        , 0.        , 0.        , 0.        ,\n",
       "       0.        , 0.        , 0.        , 0.        , 0.        ,\n",
       "       0.        , 0.        , 0.        , 0.        , 0.        ,\n",
       "       0.        , 0.        , 0.        , 0.        , 0.        ,\n",
       "       0.        , 0.        , 0.        , 0.        , 0.        ,\n",
       "       0.        , 0.        , 0.        , 0.        , 0.        ,\n",
       "       0.        , 0.        , 0.        , 0.        , 0.        ,\n",
       "       0.        , 0.        , 0.        , 0.        , 0.        ,\n",
       "       0.        , 0.        , 0.        , 0.        , 0.        ,\n",
       "       0.        , 0.        , 0.        , 0.        , 0.        ,\n",
       "       0.        , 0.        , 0.        , 0.        , 0.        ,\n",
       "       0.        , 0.        , 0.        , 0.        , 0.        ,\n",
       "       0.        , 0.        , 0.        , 0.        , 0.        ,\n",
       "       0.        , 0.        , 0.        , 0.        , 0.        ,\n",
       "       0.        , 0.        , 0.        , 0.        , 0.        ,\n",
       "       0.        , 0.        , 0.        , 0.        , 0.        ,\n",
       "       0.        , 0.        , 0.        , 0.        , 0.        ,\n",
       "       0.        , 0.        , 0.        , 0.        , 0.        ,\n",
       "       0.        , 0.        , 0.        , 0.        , 0.        ,\n",
       "       0.        , 0.        , 0.        , 0.        , 0.        ,\n",
       "       0.        , 0.        , 0.        , 0.        , 0.        ,\n",
       "       0.        , 0.        , 0.        , 0.        , 0.        ,\n",
       "       0.        , 0.        , 0.        , 0.        , 0.        ,\n",
       "       0.        , 0.        , 0.        , 0.        , 0.        ,\n",
       "       0.        , 0.        , 0.        , 0.        , 0.        ,\n",
       "       0.        , 0.        , 0.        , 0.        , 0.        ,\n",
       "       0.        , 0.        , 0.        , 0.        , 0.        ,\n",
       "       0.        , 0.        , 0.        , 0.        , 0.        ,\n",
       "       0.        , 0.        , 0.01176471, 0.07058824, 0.07058824,\n",
       "       0.07058824, 0.49411765, 0.53333333, 0.68627451, 0.10196078,\n",
       "       0.65098039, 1.        , 0.96862745, 0.49803922, 0.        ,\n",
       "       0.        , 0.        , 0.        , 0.        , 0.        ,\n",
       "       0.        , 0.        , 0.        , 0.        , 0.        ,\n",
       "       0.        , 0.11764706, 0.14117647, 0.36862745, 0.60392157,\n",
       "       0.66666667, 0.99215686, 0.99215686, 0.99215686, 0.99215686,\n",
       "       0.99215686, 0.88235294, 0.6745098 , 0.99215686, 0.94901961,\n",
       "       0.76470588, 0.25098039, 0.        , 0.        , 0.        ,\n",
       "       0.        , 0.        , 0.        , 0.        , 0.        ,\n",
       "       0.        , 0.        , 0.        , 0.19215686, 0.93333333,\n",
       "       0.99215686, 0.99215686, 0.99215686, 0.99215686, 0.99215686,\n",
       "       0.99215686, 0.99215686, 0.99215686, 0.98431373, 0.36470588,\n",
       "       0.32156863, 0.32156863, 0.21960784, 0.15294118, 0.        ,\n",
       "       0.        , 0.        , 0.        , 0.        , 0.        ,\n",
       "       0.        , 0.        , 0.        , 0.        , 0.        ,\n",
       "       0.        , 0.07058824, 0.85882353, 0.99215686, 0.99215686,\n",
       "       0.99215686, 0.99215686, 0.99215686, 0.77647059, 0.71372549,\n",
       "       0.96862745, 0.94509804, 0.        , 0.        , 0.        ,\n",
       "       0.        , 0.        , 0.        , 0.        , 0.        ,\n",
       "       0.        , 0.        , 0.        , 0.        , 0.        ,\n",
       "       0.        , 0.        , 0.        , 0.        , 0.        ,\n",
       "       0.31372549, 0.61176471, 0.41960784, 0.99215686, 0.99215686,\n",
       "       0.80392157, 0.04313725, 0.        , 0.16862745, 0.60392157,\n",
       "       0.        , 0.        , 0.        , 0.        , 0.        ,\n",
       "       0.        , 0.        , 0.        , 0.        , 0.        ,\n",
       "       0.        , 0.        , 0.        , 0.        , 0.        ,\n",
       "       0.        , 0.        , 0.        , 0.        , 0.05490196,\n",
       "       0.00392157, 0.60392157, 0.99215686, 0.35294118, 0.        ,\n",
       "       0.        , 0.        , 0.        , 0.        , 0.        ,\n",
       "       0.        , 0.        , 0.        , 0.        , 0.        ,\n",
       "       0.        , 0.        , 0.        , 0.        , 0.        ,\n",
       "       0.        , 0.        , 0.        , 0.        , 0.        ,\n",
       "       0.        , 0.        , 0.        , 0.        , 0.54509804,\n",
       "       0.99215686, 0.74509804, 0.00784314, 0.        , 0.        ,\n",
       "       0.        , 0.        , 0.        , 0.        , 0.        ,\n",
       "       0.        , 0.        , 0.        , 0.        , 0.        ,\n",
       "       0.        , 0.        , 0.        , 0.        , 0.        ,\n",
       "       0.        , 0.        , 0.        , 0.        , 0.        ,\n",
       "       0.        , 0.        , 0.04313725, 0.74509804, 0.99215686,\n",
       "       0.2745098 , 0.        , 0.        , 0.        , 0.        ,\n",
       "       0.        , 0.        , 0.        , 0.        , 0.        ,\n",
       "       0.        , 0.        , 0.        , 0.        , 0.        ,\n",
       "       0.        , 0.        , 0.        , 0.        , 0.        ,\n",
       "       0.        , 0.        , 0.        , 0.        , 0.        ,\n",
       "       0.        , 0.1372549 , 0.94509804, 0.88235294, 0.62745098,\n",
       "       0.42352941, 0.00392157, 0.        , 0.        , 0.        ,\n",
       "       0.        , 0.        , 0.        , 0.        , 0.        ,\n",
       "       0.        , 0.        , 0.        , 0.        , 0.        ,\n",
       "       0.        , 0.        , 0.        , 0.        , 0.        ,\n",
       "       0.        , 0.        , 0.        , 0.        , 0.        ,\n",
       "       0.31764706, 0.94117647, 0.99215686, 0.99215686, 0.46666667,\n",
       "       0.09803922, 0.        , 0.        , 0.        , 0.        ,\n",
       "       0.        , 0.        , 0.        , 0.        , 0.        ,\n",
       "       0.        , 0.        , 0.        , 0.        , 0.        ,\n",
       "       0.        , 0.        , 0.        , 0.        , 0.        ,\n",
       "       0.        , 0.        , 0.        , 0.        , 0.17647059,\n",
       "       0.72941176, 0.99215686, 0.99215686, 0.58823529, 0.10588235,\n",
       "       0.        , 0.        , 0.        , 0.        , 0.        ,\n",
       "       0.        , 0.        , 0.        , 0.        , 0.        ,\n",
       "       0.        , 0.        , 0.        , 0.        , 0.        ,\n",
       "       0.        , 0.        , 0.        , 0.        , 0.        ,\n",
       "       0.        , 0.        , 0.        , 0.0627451 , 0.36470588,\n",
       "       0.98823529, 0.99215686, 0.73333333, 0.        , 0.        ,\n",
       "       0.        , 0.        , 0.        , 0.        , 0.        ,\n",
       "       0.        , 0.        , 0.        , 0.        , 0.        ,\n",
       "       0.        , 0.        , 0.        , 0.        , 0.        ,\n",
       "       0.        , 0.        , 0.        , 0.        , 0.        ,\n",
       "       0.        , 0.        , 0.        , 0.97647059, 0.99215686,\n",
       "       0.97647059, 0.25098039, 0.        , 0.        , 0.        ,\n",
       "       0.        , 0.        , 0.        , 0.        , 0.        ,\n",
       "       0.        , 0.        , 0.        , 0.        , 0.        ,\n",
       "       0.        , 0.        , 0.        , 0.        , 0.        ,\n",
       "       0.        , 0.        , 0.        , 0.18039216, 0.50980392,\n",
       "       0.71764706, 0.99215686, 0.99215686, 0.81176471, 0.00784314,\n",
       "       0.        , 0.        , 0.        , 0.        , 0.        ,\n",
       "       0.        , 0.        , 0.        , 0.        , 0.        ,\n",
       "       0.        , 0.        , 0.        , 0.        , 0.        ,\n",
       "       0.        , 0.        , 0.        , 0.        , 0.15294118,\n",
       "       0.58039216, 0.89803922, 0.99215686, 0.99215686, 0.99215686,\n",
       "       0.98039216, 0.71372549, 0.        , 0.        , 0.        ,\n",
       "       0.        , 0.        , 0.        , 0.        , 0.        ,\n",
       "       0.        , 0.        , 0.        , 0.        , 0.        ,\n",
       "       0.        , 0.        , 0.        , 0.        , 0.        ,\n",
       "       0.09411765, 0.44705882, 0.86666667, 0.99215686, 0.99215686,\n",
       "       0.99215686, 0.99215686, 0.78823529, 0.30588235, 0.        ,\n",
       "       0.        , 0.        , 0.        , 0.        , 0.        ,\n",
       "       0.        , 0.        , 0.        , 0.        , 0.        ,\n",
       "       0.        , 0.        , 0.        , 0.        , 0.        ,\n",
       "       0.        , 0.09019608, 0.25882353, 0.83529412, 0.99215686,\n",
       "       0.99215686, 0.99215686, 0.99215686, 0.77647059, 0.31764706,\n",
       "       0.00784314, 0.        , 0.        , 0.        , 0.        ,\n",
       "       0.        , 0.        , 0.        , 0.        , 0.        ,\n",
       "       0.        , 0.        , 0.        , 0.        , 0.        ,\n",
       "       0.        , 0.        , 0.07058824, 0.67058824, 0.85882353,\n",
       "       0.99215686, 0.99215686, 0.99215686, 0.99215686, 0.76470588,\n",
       "       0.31372549, 0.03529412, 0.        , 0.        , 0.        ,\n",
       "       0.        , 0.        , 0.        , 0.        , 0.        ,\n",
       "       0.        , 0.        , 0.        , 0.        , 0.        ,\n",
       "       0.        , 0.        , 0.        , 0.21568627, 0.6745098 ,\n",
       "       0.88627451, 0.99215686, 0.99215686, 0.99215686, 0.99215686,\n",
       "       0.95686275, 0.52156863, 0.04313725, 0.        , 0.        ,\n",
       "       0.        , 0.        , 0.        , 0.        , 0.        ,\n",
       "       0.        , 0.        , 0.        , 0.        , 0.        ,\n",
       "       0.        , 0.        , 0.        , 0.        , 0.        ,\n",
       "       0.        , 0.53333333, 0.99215686, 0.99215686, 0.99215686,\n",
       "       0.83137255, 0.52941176, 0.51764706, 0.0627451 , 0.        ,\n",
       "       0.        , 0.        , 0.        , 0.        , 0.        ,\n",
       "       0.        , 0.        , 0.        , 0.        , 0.        ,\n",
       "       0.        , 0.        , 0.        , 0.        , 0.        ,\n",
       "       0.        , 0.        , 0.        , 0.        , 0.        ,\n",
       "       0.        , 0.        , 0.        , 0.        , 0.        ,\n",
       "       0.        , 0.        , 0.        , 0.        , 0.        ,\n",
       "       0.        , 0.        , 0.        , 0.        , 0.        ,\n",
       "       0.        , 0.        , 0.        , 0.        , 0.        ,\n",
       "       0.        , 0.        , 0.        , 0.        , 0.        ,\n",
       "       0.        , 0.        , 0.        , 0.        , 0.        ,\n",
       "       0.        , 0.        , 0.        , 0.        , 0.        ,\n",
       "       0.        , 0.        , 0.        , 0.        , 0.        ,\n",
       "       0.        , 0.        , 0.        , 0.        , 0.        ,\n",
       "       0.        , 0.        , 0.        , 0.        , 0.        ,\n",
       "       0.        , 0.        , 0.        , 0.        , 0.        ,\n",
       "       0.        , 0.        , 0.        , 0.        , 0.        ,\n",
       "       0.        , 0.        , 0.        , 0.        , 0.        ,\n",
       "       0.        , 0.        , 0.        , 0.        , 0.        ,\n",
       "       0.        , 0.        , 0.        , 0.        , 0.        ,\n",
       "       0.        , 0.        , 0.        , 0.        ])"
      ]
     },
     "execution_count": 8,
     "metadata": {},
     "output_type": "execute_result"
    }
   ],
   "source": [
    "x_train[0]"
   ]
  },
  {
   "cell_type": "markdown",
   "metadata": {},
   "source": [
    "# Making model "
   ]
  },
  {
   "cell_type": "markdown",
   "metadata": {},
   "source": [
    "First, I'd like to try guessing the number"
   ]
  },
  {
   "cell_type": "code",
   "execution_count": 9,
   "metadata": {},
   "outputs": [
    {
     "data": {
      "text/plain": [
       "10.071666666666665"
      ]
     },
     "execution_count": 9,
     "metadata": {},
     "output_type": "execute_result"
    }
   ],
   "source": [
    "from sklearn.metrics import accuracy_score\n",
    "\n",
    "def guess(x, y):\n",
    "    rand = []  \n",
    "    for i in range(x.shape[0]):\n",
    "        rand.append(np.random.randint(0,10))\n",
    "    \n",
    "    y = [np.argmax(i) for i in y]\n",
    "    acc = accuracy_score(y, rand) * 100\n",
    "    \n",
    "    return acc\n",
    "\n",
    "guess(x_train, y_train)"
   ]
  },
  {
   "cell_type": "markdown",
   "metadata": {},
   "source": [
    "Guessing have around 10% accuracy, like everyone can expect"
   ]
  },
  {
   "cell_type": "markdown",
   "metadata": {},
   "source": [
    "# Decision Tree"
   ]
  },
  {
   "cell_type": "code",
   "execution_count": 10,
   "metadata": {},
   "outputs": [],
   "source": [
    "from sklearn.tree import DecisionTreeClassifier\n",
    "\n",
    "model = DecisionTreeClassifier(criterion='entropy')\n",
    "model.fit(x_train, y_train)\n",
    "pred = model.predict(x_test)"
   ]
  },
  {
   "cell_type": "code",
   "execution_count": 11,
   "metadata": {},
   "outputs": [
    {
     "data": {
      "text/plain": [
       "88.77000000000001"
      ]
     },
     "execution_count": 11,
     "metadata": {},
     "output_type": "execute_result"
    }
   ],
   "source": [
    "acc = accuracy_score(y_test, pred) * 100\n",
    "acc"
   ]
  },
  {
   "cell_type": "markdown",
   "metadata": {},
   "source": [
    "It's significant better than guessing"
   ]
  },
  {
   "cell_type": "markdown",
   "metadata": {},
   "source": [
    "# Random Forest "
   ]
  },
  {
   "cell_type": "markdown",
   "metadata": {},
   "source": [
    "Let's check what number of n_estimators is best"
   ]
  },
  {
   "cell_type": "code",
   "execution_count": 12,
   "metadata": {},
   "outputs": [
    {
     "data": {
      "text/plain": [
       "GridSearchCV(cv=3, error_score='raise-deprecating',\n",
       "             estimator=RandomForestClassifier(bootstrap=True, class_weight=None,\n",
       "                                              criterion='gini', max_depth=None,\n",
       "                                              max_features='auto',\n",
       "                                              max_leaf_nodes=None,\n",
       "                                              min_impurity_decrease=0.0,\n",
       "                                              min_impurity_split=None,\n",
       "                                              min_samples_leaf=1,\n",
       "                                              min_samples_split=2,\n",
       "                                              min_weight_fraction_leaf=0.0,\n",
       "                                              n_estimators='warn', n_jobs=None,\n",
       "                                              oob_score=False,\n",
       "                                              random_state=None, verbose=0,\n",
       "                                              warm_start=False),\n",
       "             iid='warn', n_jobs=None,\n",
       "             param_grid={'n_estimators': [20, 50, 100]},\n",
       "             pre_dispatch='2*n_jobs', refit=True, return_train_score=False,\n",
       "             scoring=None, verbose=0)"
      ]
     },
     "execution_count": 12,
     "metadata": {},
     "output_type": "execute_result"
    }
   ],
   "source": [
    "from sklearn.ensemble import RandomForestClassifier\n",
    "from sklearn.model_selection import GridSearchCV\n",
    "\n",
    "parameters = {'n_estimators': [20, 50, 100]}\n",
    "\n",
    "forest = RandomForestClassifier()\n",
    "\n",
    "gridsearch = GridSearchCV(estimator=forest, param_grid=parameters, cv=3)\n",
    "\n",
    "best_model = gridsearch.fit(x_train, y_train)\n",
    "best_model"
   ]
  },
  {
   "cell_type": "code",
   "execution_count": 13,
   "metadata": {},
   "outputs": [
    {
     "data": {
      "text/plain": [
       "{'bootstrap': True,\n",
       " 'class_weight': None,\n",
       " 'criterion': 'gini',\n",
       " 'max_depth': None,\n",
       " 'max_features': 'auto',\n",
       " 'max_leaf_nodes': None,\n",
       " 'min_impurity_decrease': 0.0,\n",
       " 'min_impurity_split': None,\n",
       " 'min_samples_leaf': 1,\n",
       " 'min_samples_split': 2,\n",
       " 'min_weight_fraction_leaf': 0.0,\n",
       " 'n_estimators': 100,\n",
       " 'n_jobs': None,\n",
       " 'oob_score': False,\n",
       " 'random_state': None,\n",
       " 'verbose': 0,\n",
       " 'warm_start': False}"
      ]
     },
     "execution_count": 13,
     "metadata": {},
     "output_type": "execute_result"
    }
   ],
   "source": [
    "best_model.best_estimator_.get_params()"
   ]
  },
  {
   "cell_type": "code",
   "execution_count": 15,
   "metadata": {},
   "outputs": [
    {
     "data": {
      "text/plain": [
       "96.92"
      ]
     },
     "execution_count": 15,
     "metadata": {},
     "output_type": "execute_result"
    }
   ],
   "source": [
    "model = RandomForestClassifier(n_estimators=100)\n",
    "model.fit(x_train, y_train)\n",
    "pred = model.predict(x_test)\n",
    "acc = accuracy_score(y_test, pred) * 100\n",
    "acc"
   ]
  },
  {
   "cell_type": "markdown",
   "metadata": {},
   "source": [
    "# Neural network"
   ]
  },
  {
   "cell_type": "markdown",
   "metadata": {},
   "source": [
    "I need to change y's (outputs)"
   ]
  },
  {
   "cell_type": "code",
   "execution_count": 16,
   "metadata": {},
   "outputs": [
    {
     "data": {
      "text/plain": [
       "array([0., 0., 0., 0., 0., 1., 0., 0., 0., 0.], dtype=float32)"
      ]
     },
     "execution_count": 16,
     "metadata": {},
     "output_type": "execute_result"
    }
   ],
   "source": [
    "y_train = np_utils.to_categorical(y_train)\n",
    "y_test = np_utils.to_categorical(y_test)\n",
    "\n",
    "y_train[0]"
   ]
  },
  {
   "cell_type": "markdown",
   "metadata": {},
   "source": [
    "Create model"
   ]
  },
  {
   "cell_type": "code",
   "execution_count": 17,
   "metadata": {},
   "outputs": [],
   "source": [
    "from keras import models\n",
    "from keras import layers\n",
    "\n",
    "def create_model():\n",
    "    model = models.Sequential()\n",
    "    model.add(layers.Dense(256, activation=\"relu\", input_shape=(784,)))\n",
    "    model.add(layers.Dense(128, activation=\"relu\"))\n",
    "    model.add(layers.Dense(10, activation=\"softmax\"))\n",
    "    model.compile(loss=\"categorical_crossentropy\", optimizer=\"adam\", metrics=[\"accuracy\"])\n",
    "    return model\n",
    "\n",
    "model = create_model()"
   ]
  },
  {
   "cell_type": "markdown",
   "metadata": {},
   "source": [
    "I need validation data also for better view of results"
   ]
  },
  {
   "cell_type": "code",
   "execution_count": 18,
   "metadata": {},
   "outputs": [],
   "source": [
    "import math\n",
    "\n",
    "x_val = x_train[math.ceil(x_train.shape[0] * .7) :]\n",
    "y_val = y_train[math.ceil(y_train.shape[0] * .7) :]\n",
    "x_train = x_train[: math.ceil(x_train.shape[0] * .7)]\n",
    "y_train = y_train[: math.ceil(y_train.shape[0] * .7)]"
   ]
  },
  {
   "cell_type": "code",
   "execution_count": 19,
   "metadata": {},
   "outputs": [
    {
     "name": "stdout",
     "output_type": "stream",
     "text": [
      "Train on 42000 samples, validate on 18000 samples\n",
      "Epoch 1/10\n",
      "42000/42000 [==============================] - 2s 44us/step - loss: 0.3163 - accuracy: 0.9100 - val_loss: 0.1641 - val_accuracy: 0.9527\n",
      "Epoch 2/10\n",
      "42000/42000 [==============================] - 2s 39us/step - loss: 0.1237 - accuracy: 0.9641 - val_loss: 0.1262 - val_accuracy: 0.9626\n",
      "Epoch 3/10\n",
      "42000/42000 [==============================] - 2s 39us/step - loss: 0.0815 - accuracy: 0.9747 - val_loss: 0.1106 - val_accuracy: 0.9668\n",
      "Epoch 4/10\n",
      "42000/42000 [==============================] - 2s 44us/step - loss: 0.0582 - accuracy: 0.9822 - val_loss: 0.1074 - val_accuracy: 0.9691\n",
      "Epoch 5/10\n",
      "42000/42000 [==============================] - 2s 43us/step - loss: 0.0418 - accuracy: 0.9871 - val_loss: 0.1020 - val_accuracy: 0.9706\n",
      "Epoch 6/10\n",
      "42000/42000 [==============================] - 2s 39us/step - loss: 0.0309 - accuracy: 0.9905 - val_loss: 0.1046 - val_accuracy: 0.9706\n",
      "Epoch 7/10\n",
      "42000/42000 [==============================] - 2s 39us/step - loss: 0.0255 - accuracy: 0.9926 - val_loss: 0.0974 - val_accuracy: 0.9738\n",
      "Epoch 8/10\n",
      "42000/42000 [==============================] - 2s 40us/step - loss: 0.0197 - accuracy: 0.9938 - val_loss: 0.1026 - val_accuracy: 0.9726\n",
      "Epoch 9/10\n",
      "42000/42000 [==============================] - 2s 40us/step - loss: 0.0167 - accuracy: 0.9948 - val_loss: 0.1030 - val_accuracy: 0.9737\n",
      "Epoch 10/10\n",
      "42000/42000 [==============================] - 2s 40us/step - loss: 0.0156 - accuracy: 0.9946 - val_loss: 0.1097 - val_accuracy: 0.9743\n"
     ]
    }
   ],
   "source": [
    "history = model.fit(x_train, y_train, epochs=10, verbose=1, batch_size=128, validation_data=(x_val, y_val))"
   ]
  },
  {
   "cell_type": "code",
   "execution_count": 20,
   "metadata": {},
   "outputs": [
    {
     "data": {
      "text/plain": [
       "97.6"
      ]
     },
     "execution_count": 20,
     "metadata": {},
     "output_type": "execute_result"
    }
   ],
   "source": [
    "pred = model.predict(x_test)\n",
    "pred_max = [np.argmax(i) for i in pred]\n",
    "y_test_max = [np.argmax(i) for i in y_test]\n",
    "acc = accuracy_score(y_test_max, pred_max) * 100\n",
    "acc"
   ]
  },
  {
   "cell_type": "markdown",
   "metadata": {},
   "source": [
    "Visualize training history"
   ]
  },
  {
   "cell_type": "code",
   "execution_count": 21,
   "metadata": {},
   "outputs": [],
   "source": [
    "training_loss = history.history[\"loss\"]\n",
    "val_loss = history.history[\"val_loss\"]\n",
    "epochs = range(1, len(training_loss)+1)"
   ]
  },
  {
   "cell_type": "code",
   "execution_count": 22,
   "metadata": {},
   "outputs": [
    {
     "data": {
      "image/png": "[encoded data removed]",
      "text/plain": [
       "<Figure size 432x288 with 1 Axes>"
      ]
     },
     "metadata": {
      "needs_background": "light"
     },
     "output_type": "display_data"
    }
   ],
   "source": [
    "plt.plot(epochs, training_loss, \"b\")\n",
    "plt.plot(epochs, val_loss, \"r\")\n",
    "plt.title(\"Loss by epochs\")\n",
    "plt.legend([\"Training\", \"Validation\"])\n",
    "plt.xlabel(\"epochs\")\n",
    "plt.ylabel(\"loss\")\n",
    "plt.show()"
   ]
  },
  {
   "cell_type": "code",
   "execution_count": 23,
   "metadata": {},
   "outputs": [],
   "source": [
    "training_acc = history.history[\"accuracy\"]\n",
    "val_acc = history.history[\"val_accuracy\"]"
   ]
  },
  {
   "cell_type": "code",
   "execution_count": 24,
   "metadata": {},
   "outputs": [
    {
     "data": {
      "image/png": "[encoded data removed]",
      "text/plain": [
       "<Figure size 432x288 with 1 Axes>"
      ]
     },
     "metadata": {
      "needs_background": "light"
     },
     "output_type": "display_data"
    }
   ],
   "source": [
    "plt.plot(epochs, training_acc, \"b\")\n",
    "plt.plot(epochs, val_acc, \"r\")\n",
    "plt.title(\"Accuracy by epochs\")\n",
    "plt.legend([\"Training\", \"Validation\"])\n",
    "plt.xlabel(\"epochs\")\n",
    "plt.ylabel(\"acc\")\n",
    "plt.show()"
   ]
  },
  {
   "cell_type": "markdown",
   "metadata": {},
   "source": [
    "I can see here an overfitting. After 8th epoch loss started to grow."
   ]
  },
  {
   "cell_type": "markdown",
   "metadata": {},
   "source": [
    "I will try kernel regularizers to deal with overfitting"
   ]
  },
  {
   "cell_type": "code",
   "execution_count": 26,
   "metadata": {},
   "outputs": [
    {
     "name": "stdout",
     "output_type": "stream",
     "text": [
      "Train on 42000 samples, validate on 18000 samples\n",
      "Epoch 1/20\n",
      "42000/42000 [==============================] - 2s 49us/step - loss: 1.5363 - accuracy: 0.8794 - val_loss: 0.6468 - val_accuracy: 0.9160\n",
      "Epoch 2/20\n",
      "42000/42000 [==============================] - 2s 46us/step - loss: 0.5880 - accuracy: 0.9178 - val_loss: 0.5275 - val_accuracy: 0.9305\n",
      "Epoch 3/20\n",
      "42000/42000 [==============================] - 2s 42us/step - loss: 0.5136 - accuracy: 0.9281 - val_loss: 0.4833 - val_accuracy: 0.9323\n",
      "Epoch 4/20\n",
      "42000/42000 [==============================] - 2s 43us/step - loss: 0.4780 - accuracy: 0.9328 - val_loss: 0.4608 - val_accuracy: 0.9328\n",
      "Epoch 5/20\n",
      "42000/42000 [==============================] - 2s 42us/step - loss: 0.4442 - accuracy: 0.9380 - val_loss: 0.4243 - val_accuracy: 0.9434\n",
      "Epoch 6/20\n",
      "42000/42000 [==============================] - 2s 42us/step - loss: 0.4233 - accuracy: 0.9420 - val_loss: 0.4072 - val_accuracy: 0.9458\n",
      "Epoch 7/20\n",
      "42000/42000 [==============================] - 2s 42us/step - loss: 0.4045 - accuracy: 0.9447 - val_loss: 0.3979 - val_accuracy: 0.9435\n",
      "Epoch 8/20\n",
      "42000/42000 [==============================] - 2s 49us/step - loss: 0.3858 - accuracy: 0.9476 - val_loss: 0.3692 - val_accuracy: 0.9527\n",
      "Epoch 9/20\n",
      "42000/42000 [==============================] - 2s 45us/step - loss: 0.3681 - accuracy: 0.9505 - val_loss: 0.3665 - val_accuracy: 0.9473\n",
      "Epoch 10/20\n",
      "42000/42000 [==============================] - 2s 43us/step - loss: 0.3557 - accuracy: 0.9523 - val_loss: 0.3607 - val_accuracy: 0.9510\n",
      "Epoch 11/20\n",
      "42000/42000 [==============================] - 2s 42us/step - loss: 0.3485 - accuracy: 0.9519 - val_loss: 0.3547 - val_accuracy: 0.9520\n",
      "Epoch 12/20\n",
      "42000/42000 [==============================] - 2s 44us/step - loss: 0.3366 - accuracy: 0.9543 - val_loss: 0.3385 - val_accuracy: 0.9536\n",
      "Epoch 13/20\n",
      "42000/42000 [==============================] - 2s 43us/step - loss: 0.3263 - accuracy: 0.9559 - val_loss: 0.3320 - val_accuracy: 0.9527\n",
      "Epoch 14/20\n",
      "42000/42000 [==============================] - 2s 42us/step - loss: 0.3199 - accuracy: 0.9566 - val_loss: 0.3220 - val_accuracy: 0.9573\n",
      "Epoch 15/20\n",
      "42000/42000 [==============================] - 2s 42us/step - loss: 0.3142 - accuracy: 0.9568 - val_loss: 0.3306 - val_accuracy: 0.9489\n",
      "Epoch 16/20\n",
      "42000/42000 [==============================] - 2s 42us/step - loss: 0.3027 - accuracy: 0.9592 - val_loss: 0.3039 - val_accuracy: 0.9599\n",
      "Epoch 17/20\n",
      "42000/42000 [==============================] - 2s 42us/step - loss: 0.2971 - accuracy: 0.9597 - val_loss: 0.3176 - val_accuracy: 0.9521\n",
      "Epoch 18/20\n",
      "42000/42000 [==============================] - 2s 42us/step - loss: 0.2922 - accuracy: 0.9598 - val_loss: 0.2962 - val_accuracy: 0.9584\n",
      "Epoch 19/20\n",
      "42000/42000 [==============================] - 2s 42us/step - loss: 0.2854 - accuracy: 0.9604 - val_loss: 0.2943 - val_accuracy: 0.9574\n",
      "Epoch 20/20\n",
      "42000/42000 [==============================] - 2s 46us/step - loss: 0.2800 - accuracy: 0.9628 - val_loss: 0.2862 - val_accuracy: 0.9599\n"
     ]
    }
   ],
   "source": [
    "from keras import regularizers\n",
    "\n",
    "def create_model():\n",
    "    model = models.Sequential()\n",
    "    model.add(layers.Dense(256, activation=\"relu\", kernel_regularizer=regularizers.l2(0.01), input_shape=(784,)))\n",
    "    model.add(layers.Dense(128, activation=\"relu\", kernel_regularizer=regularizers.l2(0.01)))\n",
    "    model.add(layers.Dense(10, activation=\"softmax\"))\n",
    "    model.compile(loss=\"categorical_crossentropy\", optimizer=\"adam\", metrics=[\"accuracy\"])\n",
    "    return model\n",
    "\n",
    "model = create_model()\n",
    "history = model.fit(x_train, y_train, epochs=20, verbose=1, batch_size=128, validation_data=(x_val, y_val))"
   ]
  },
  {
   "cell_type": "code",
   "execution_count": 27,
   "metadata": {},
   "outputs": [
    {
     "data": {
      "text/plain": [
       "96.34"
      ]
     },
     "execution_count": 27,
     "metadata": {},
     "output_type": "execute_result"
    }
   ],
   "source": [
    "pred = model.predict(x_test)\n",
    "pred_max = [np.argmax(i) for i in pred]\n",
    "y_test_max = [np.argmax(i) for i in y_test]\n",
    "acc = accuracy_score(y_test_max, pred_max) * 100\n",
    "acc"
   ]
  },
  {
   "cell_type": "code",
   "execution_count": 28,
   "metadata": {},
   "outputs": [
    {
     "data": {
      "image/png": "[encoded data removed]",
      "text/plain": [
       "<Figure size 432x288 with 1 Axes>"
      ]
     },
     "metadata": {
      "needs_background": "light"
     },
     "output_type": "display_data"
    }
   ],
   "source": [
    "training_loss = history.history[\"loss\"]\n",
    "val_loss = history.history[\"val_loss\"]\n",
    "epochs = range(1, len(training_loss)+1)\n",
    "plt.plot(epochs, training_loss, \"b\")\n",
    "plt.plot(epochs, val_loss, \"r\")\n",
    "plt.title(\"Loss by epochs\")\n",
    "plt.legend([\"Training\", \"Validation\"])\n",
    "plt.xlabel(\"epochs\")\n",
    "plt.ylabel(\"loss\")\n",
    "plt.show()"
   ]
  },
  {
   "cell_type": "markdown",
   "metadata": {},
   "source": [
    "It helped with overfitting but not so much"
   ]
  },
  {
   "cell_type": "markdown",
   "metadata": {},
   "source": [
    "So i will try dropout"
   ]
  },
  {
   "cell_type": "code",
   "execution_count": 29,
   "metadata": {},
   "outputs": [
    {
     "name": "stdout",
     "output_type": "stream",
     "text": [
      "Train on 42000 samples, validate on 18000 samples\n",
      "Epoch 1/10\n",
      "42000/42000 [==============================] - 3s 67us/step - loss: 1.6459 - accuracy: 0.8494 - val_loss: 0.6615 - val_accuracy: 0.9101\n",
      "Epoch 2/10\n",
      "42000/42000 [==============================] - 2s 54us/step - loss: 0.6219 - accuracy: 0.9090 - val_loss: 0.5465 - val_accuracy: 0.9202\n",
      "Epoch 3/10\n",
      "42000/42000 [==============================] - 2s 56us/step - loss: 0.5555 - accuracy: 0.9160 - val_loss: 0.5278 - val_accuracy: 0.9187\n",
      "Epoch 4/10\n",
      "42000/42000 [==============================] - 2s 55us/step - loss: 0.5214 - accuracy: 0.9210 - val_loss: 0.4774 - val_accuracy: 0.9306\n",
      "Epoch 5/10\n",
      "42000/42000 [==============================] - 2s 51us/step - loss: 0.5028 - accuracy: 0.9237 - val_loss: 0.4600 - val_accuracy: 0.9364\n",
      "Epoch 6/10\n",
      "42000/42000 [==============================] - 2s 51us/step - loss: 0.4770 - accuracy: 0.9298 - val_loss: 0.4244 - val_accuracy: 0.9449\n",
      "Epoch 7/10\n",
      "42000/42000 [==============================] - 2s 51us/step - loss: 0.4621 - accuracy: 0.9315 - val_loss: 0.4393 - val_accuracy: 0.9354\n",
      "Epoch 8/10\n",
      "42000/42000 [==============================] - 2s 53us/step - loss: 0.4496 - accuracy: 0.9335 - val_loss: 0.3984 - val_accuracy: 0.9481\n",
      "Epoch 9/10\n",
      "42000/42000 [==============================] - 3s 63us/step - loss: 0.4357 - accuracy: 0.9349 - val_loss: 0.4339 - val_accuracy: 0.9336\n",
      "Epoch 10/10\n",
      "42000/42000 [==============================] - 2s 58us/step - loss: 0.4282 - accuracy: 0.9362 - val_loss: 0.4039 - val_accuracy: 0.9415\n"
     ]
    }
   ],
   "source": [
    "def create_model():\n",
    "    model = models.Sequential()\n",
    "    model.add(layers.Dense(256, activation=\"relu\", kernel_regularizer=regularizers.l2(0.01), input_shape=(784,)))\n",
    "    model.add(layers.Dropout(0.2))\n",
    "    model.add(layers.Dense(128, activation=\"relu\", kernel_regularizer=regularizers.l2(0.01)))\n",
    "    model.add(layers.Dropout(0.2))\n",
    "    model.add(layers.Dense(10, activation=\"softmax\"))\n",
    "    model.compile(loss=\"categorical_crossentropy\", optimizer=\"adam\", metrics=[\"accuracy\"])\n",
    "    return model\n",
    "\n",
    "model = create_model()\n",
    "history = model.fit(x_train, y_train, epochs=10, verbose=1, batch_size=128, validation_data=(x_val, y_val))"
   ]
  },
  {
   "cell_type": "code",
   "execution_count": 30,
   "metadata": {},
   "outputs": [
    {
     "data": {
      "text/plain": [
       "94.28"
      ]
     },
     "execution_count": 30,
     "metadata": {},
     "output_type": "execute_result"
    }
   ],
   "source": [
    "pred = model.predict(x_test)\n",
    "pred_max = [np.argmax(i) for i in pred]\n",
    "y_test_max = [np.argmax(i) for i in y_test]\n",
    "acc = accuracy_score(y_test_max, pred_max) * 100\n",
    "acc"
   ]
  },
  {
   "cell_type": "markdown",
   "metadata": {},
   "source": [
    "First model was the best one (the simplest one)"
   ]
  },
  {
   "cell_type": "markdown",
   "metadata": {},
   "source": [
    "Maybe this task isn't so complicated and doesn't need unnecessary complications"
   ]
  },
  {
   "cell_type": "markdown",
   "metadata": {},
   "source": [
    "# Convolution neural network"
   ]
  },
  {
   "cell_type": "markdown",
   "metadata": {},
   "source": [
    "First i need to reshape my data"
   ]
  },
  {
   "cell_type": "code",
   "execution_count": 31,
   "metadata": {},
   "outputs": [],
   "source": [
    "x_train = x_train.reshape(x_train.shape[0], 28, 28, 1)\n",
    "x_val = x_val.reshape(x_val.shape[0], 28, 28, 1)\n",
    "x_test = x_test.reshape(x_test.shape[0], 28, 28, 1)"
   ]
  },
  {
   "cell_type": "code",
   "execution_count": 32,
   "metadata": {},
   "outputs": [],
   "source": [
    "from keras import optimizers\n",
    "\n",
    "def create_model():\n",
    "    model = models.Sequential()\n",
    "    model.add(layers.Conv2D(32, (3, 3), activation=\"relu\", kernel_initializer='he_uniform', input_shape=(28, 28, 1)))\n",
    "    model.add(layers.MaxPooling2D((2,2)))\n",
    "    model.add(layers.Conv2D(64, (3, 3), activation=\"relu\", kernel_initializer='he_uniform'))\n",
    "    model.add(layers.Conv2D(64, (3, 3), activation=\"relu\", kernel_initializer='he_uniform'))\n",
    "    model.add(layers.MaxPooling2D((2,2)))\n",
    "    model.add(layers.Flatten())\n",
    "    model.add(layers.Dense(128, activation=\"relu\"))\n",
    "    model.add(layers.Dense(10, activation=\"softmax\"))\n",
    "    \n",
    "    sgd = optimizers.SGD(lr=0.01, momentum=0.9)\n",
    "    model.compile(loss=\"categorical_crossentropy\", optimizer=sgd, metrics=[\"accuracy\"])\n",
    "    return model"
   ]
  },
  {
   "cell_type": "code",
   "execution_count": 33,
   "metadata": {},
   "outputs": [
    {
     "name": "stdout",
     "output_type": "stream",
     "text": [
      "Train on 42000 samples, validate on 18000 samples\n",
      "Epoch 1/10\n",
      "42000/42000 [==============================] - 35s 837us/step - loss: 0.2598 - accuracy: 0.9194 - val_loss: 0.0926 - val_accuracy: 0.9708\n",
      "Epoch 2/10\n",
      "42000/42000 [==============================] - 35s 832us/step - loss: 0.0716 - accuracy: 0.9788 - val_loss: 0.0633 - val_accuracy: 0.9799\n",
      "Epoch 3/10\n",
      "42000/42000 [==============================] - 33s 790us/step - loss: 0.0484 - accuracy: 0.9849 - val_loss: 0.0612 - val_accuracy: 0.9816\n",
      "Epoch 4/10\n",
      "42000/42000 [==============================] - 35s 835us/step - loss: 0.0396 - accuracy: 0.9875 - val_loss: 0.0795 - val_accuracy: 0.9758\n",
      "Epoch 5/10\n",
      "42000/42000 [==============================] - 34s 799us/step - loss: 0.0313 - accuracy: 0.9901 - val_loss: 0.0631 - val_accuracy: 0.9818\n",
      "Epoch 6/10\n",
      "42000/42000 [==============================] - 35s 828us/step - loss: 0.0254 - accuracy: 0.9918 - val_loss: 0.0521 - val_accuracy: 0.9839\n",
      "Epoch 7/10\n",
      "42000/42000 [==============================] - 35s 824us/step - loss: 0.0199 - accuracy: 0.9939 - val_loss: 0.0539 - val_accuracy: 0.9844\n",
      "Epoch 8/10\n",
      "42000/42000 [==============================] - 34s 813us/step - loss: 0.0201 - accuracy: 0.9940 - val_loss: 0.0470 - val_accuracy: 0.9859\n",
      "Epoch 9/10\n",
      "42000/42000 [==============================] - 36s 869us/step - loss: 0.0141 - accuracy: 0.9956 - val_loss: 0.0507 - val_accuracy: 0.9851\n",
      "Epoch 10/10\n",
      "42000/42000 [==============================] - 39s 936us/step - loss: 0.0116 - accuracy: 0.9967 - val_loss: 0.0573 - val_accuracy: 0.9843\n"
     ]
    }
   ],
   "source": [
    "model = create_model()\n",
    "\n",
    "history = model.fit(x_train, y_train, epochs=10, verbose=1, batch_size=128, validation_data=(x_val, y_val))"
   ]
  },
  {
   "cell_type": "code",
   "execution_count": 34,
   "metadata": {},
   "outputs": [
    {
     "data": {
      "text/plain": [
       "98.68"
      ]
     },
     "execution_count": 34,
     "metadata": {},
     "output_type": "execute_result"
    }
   ],
   "source": [
    "pred = model.predict(x_test)\n",
    "pred_max = [np.argmax(i) for i in pred]\n",
    "y_test_max = [np.argmax(i) for i in y_test]\n",
    "acc = accuracy_score(y_test_max, pred_max) * 100\n",
    "acc"
   ]
  },
  {
   "cell_type": "code",
   "execution_count": 35,
   "metadata": {},
   "outputs": [
    {
     "data": {
      "image/png": "[encoded data removed]",
      "text/plain": [
       "<Figure size 432x288 with 1 Axes>"
      ]
     },
     "metadata": {
      "needs_background": "light"
     },
     "output_type": "display_data"
    }
   ],
   "source": [
    "training_loss = history.history[\"loss\"]\n",
    "val_loss = history.history[\"val_loss\"]\n",
    "epochs = range(1, len(training_loss)+1)\n",
    "plt.plot(epochs, training_loss, \"b\")\n",
    "plt.plot(epochs, val_loss, \"r\")\n",
    "plt.title(\"Loss by epochs\")\n",
    "plt.legend([\"Training\", \"Validation\"])\n",
    "plt.xlabel(\"epochs\")\n",
    "plt.ylabel(\"loss\")\n",
    "plt.show()"
   ]
  },
  {
   "cell_type": "markdown",
   "metadata": {},
   "source": [
    "I reached 98.7% accuracy and i think it's pretty good score "
   ]
  },
  {
   "cell_type": "markdown",
   "metadata": {},
   "source": [
    "I was inspired by vgg16 creating this model"
   ]
  }
 ],
 "metadata": {
  "kernelspec": {
   "display_name": "Python 3",
   "language": "python",
   "name": "python3"
  },
  "language_info": {
   "codemirror_mode": {
    "name": "ipython",
    "version": 3
   },
   "file_extension": ".py",
   "mimetype": "text/x-python",
   "name": "python",
   "nbconvert_exporter": "python",
   "pygments_lexer": "ipython3",
   "version": "3.7.3"
  }
 },
 "nbformat": 4,
 "nbformat_minor": 2
}
