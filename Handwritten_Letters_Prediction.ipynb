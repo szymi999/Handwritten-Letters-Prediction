{
 "cells": [
  {
   "cell_type": "markdown",
   "metadata": {},
   "source": [
    "# Importing libraries and load data"
   ]
  },
  {
   "cell_type": "code",
   "execution_count": 2,
   "metadata": {},
   "outputs": [
    {
     "name": "stdout",
     "output_type": "stream",
     "text": [
      "pygame 1.9.6\n",
      "Hello from the pygame community. https://www.pygame.org/contribute.html\n"
     ]
    },
    {
     "name": "stderr",
     "output_type": "stream",
     "text": [
      "Using TensorFlow backend.\n"
     ]
    },
    {
     "name": "stdout",
     "output_type": "stream",
     "text": [
      "(60000, 28, 28)\n",
      "(60000,)\n",
      "(10000, 28, 28)\n",
      "(10000,)\n"
     ]
    }
   ],
   "source": [
    "import numpy as np\n",
    "import matplotlib.pyplot as plt\n",
    "import pygame\n",
    "from keras.datasets import mnist\n",
    "from keras.utils import np_utils\n",
    "\n",
    "\n",
    "(x_train, y_train), (x_test, y_test) = mnist.load_data()\n",
    "\n",
    "print(x_train.shape)\n",
    "print(y_train.shape)\n",
    "print(x_test.shape)\n",
    "print(y_test.shape)"
   ]
  },
  {
   "cell_type": "markdown",
   "metadata": {},
   "source": [
    "# Understanding data"
   ]
  },
  {
   "cell_type": "code",
   "execution_count": 3,
   "metadata": {},
   "outputs": [
    {
     "data": {
      "image/png": "[encoded data removed]",
      "text/plain": [
       "<Figure size 1152x576 with 4 Axes>"
      ]
     },
     "metadata": {
      "needs_background": "light"
     },
     "output_type": "display_data"
    }
   ],
   "source": [
    "plt.figure(figsize=(16,8))\n",
    "for i in range(4):\n",
    "    plt.subplot(2,2,i+1)\n",
    "    plt.imshow(x_train[i], cmap='gray')\n",
    "plt.show()"
   ]
  },
  {
   "cell_type": "code",
   "execution_count": 4,
   "metadata": {},
   "outputs": [
    {
     "name": "stdout",
     "output_type": "stream",
     "text": [
      "0\n",
      "253\n"
     ]
    }
   ],
   "source": [
    "print(x_train[0][0][0])\n",
    "print(x_train[0][7][15])"
   ]
  },
  {
   "cell_type": "markdown",
   "metadata": {},
   "source": [
    "Images are represented in one channel"
   ]
  },
  {
   "cell_type": "markdown",
   "metadata": {},
   "source": [
    "From 0(black) to 255(white)"
   ]
  },
  {
   "cell_type": "markdown",
   "metadata": {},
   "source": [
    "Background has value 0, and everything that has been written has value greater than 0"
   ]
  },
  {
   "cell_type": "code",
   "execution_count": 5,
   "metadata": {},
   "outputs": [
    {
     "data": {
      "text/plain": [
       "5"
      ]
     },
     "execution_count": 5,
     "metadata": {},
     "output_type": "execute_result"
    }
   ],
   "source": [
    "y_train[0]"
   ]
  },
  {
   "cell_type": "markdown",
   "metadata": {},
   "source": [
    "I need a matrix with zeros and one on 5th index for y"
   ]
  },
  {
   "cell_type": "markdown",
   "metadata": {},
   "source": [
    "# Preparing data"
   ]
  },
  {
   "cell_type": "code",
   "execution_count": 6,
   "metadata": {},
   "outputs": [],
   "source": [
    "x_train = x_train.reshape((x_train.shape[0], x_train.shape[1]**2))\n",
    "x_test = x_test.reshape(x_test.shape[0], x_test.shape[1]**2)"
   ]
  },
  {
   "cell_type": "code",
   "execution_count": 7,
   "metadata": {},
   "outputs": [
    {
     "data": {
      "text/plain": [
       "(60000, 784)"
      ]
     },
     "execution_count": 7,
     "metadata": {},
     "output_type": "execute_result"
    }
   ],
   "source": [
    "x_train.shape"
   ]
  },
  {
   "cell_type": "code",
   "execution_count": 8,
   "metadata": {},
   "outputs": [],
   "source": [
    "def adjust_data(x):\n",
    "    for i in range(x.shape[0]):\n",
    "        for j in range(x.shape[1]):\n",
    "            if x[i][j] > 0:\n",
    "                x[i][j] = 1\n",
    "\n",
    "adjust_data(x_train)\n",
    "adjust_data(x_test)"
   ]
  },
  {
   "cell_type": "code",
   "execution_count": 9,
   "metadata": {},
   "outputs": [
    {
     "data": {
      "text/plain": [
       "array([0, 0, 0, 0, 0, 0, 0, 0, 0, 0, 0, 0, 0, 0, 0, 0, 0, 0, 0, 0, 0, 0,\n",
       "       0, 0, 0, 0, 0, 0, 0, 0, 0, 0, 0, 0, 0, 0, 0, 0, 0, 0, 0, 0, 0, 0,\n",
       "       0, 0, 0, 0, 0, 0, 0, 0, 0, 0, 0, 0, 0, 0, 0, 0, 0, 0, 0, 0, 0, 0,\n",
       "       0, 0, 0, 0, 0, 0, 0, 0, 0, 0, 0, 0, 0, 0, 0, 0, 0, 0, 0, 0, 0, 0,\n",
       "       0, 0, 0, 0, 0, 0, 0, 0, 0, 0, 0, 0, 0, 0, 0, 0, 0, 0, 0, 0, 0, 0,\n",
       "       0, 0, 0, 0, 0, 0, 0, 0, 0, 0, 0, 0, 0, 0, 0, 0, 0, 0, 0, 0, 0, 0,\n",
       "       0, 0, 0, 0, 0, 0, 0, 0, 0, 0, 0, 0, 0, 0, 0, 0, 0, 0, 0, 0, 1, 1,\n",
       "       1, 1, 1, 1, 1, 1, 1, 1, 1, 1, 0, 0, 0, 0, 0, 0, 0, 0, 0, 0, 0, 0,\n",
       "       1, 1, 1, 1, 1, 1, 1, 1, 1, 1, 1, 1, 1, 1, 1, 1, 0, 0, 0, 0, 0, 0,\n",
       "       0, 0, 0, 0, 0, 1, 1, 1, 1, 1, 1, 1, 1, 1, 1, 1, 1, 1, 1, 1, 1, 0,\n",
       "       0, 0, 0, 0, 0, 0, 0, 0, 0, 0, 0, 1, 1, 1, 1, 1, 1, 1, 1, 1, 1, 1,\n",
       "       0, 0, 0, 0, 0, 0, 0, 0, 0, 0, 0, 0, 0, 0, 0, 0, 0, 0, 1, 1, 1, 1,\n",
       "       1, 1, 1, 0, 1, 1, 0, 0, 0, 0, 0, 0, 0, 0, 0, 0, 0, 0, 0, 0, 0, 0,\n",
       "       0, 0, 0, 1, 1, 1, 1, 1, 0, 0, 0, 0, 0, 0, 0, 0, 0, 0, 0, 0, 0, 0,\n",
       "       0, 0, 0, 0, 0, 0, 0, 0, 0, 0, 0, 1, 1, 1, 1, 0, 0, 0, 0, 0, 0, 0,\n",
       "       0, 0, 0, 0, 0, 0, 0, 0, 0, 0, 0, 0, 0, 0, 0, 0, 0, 1, 1, 1, 1, 0,\n",
       "       0, 0, 0, 0, 0, 0, 0, 0, 0, 0, 0, 0, 0, 0, 0, 0, 0, 0, 0, 0, 0, 0,\n",
       "       0, 0, 1, 1, 1, 1, 1, 1, 0, 0, 0, 0, 0, 0, 0, 0, 0, 0, 0, 0, 0, 0,\n",
       "       0, 0, 0, 0, 0, 0, 0, 0, 0, 1, 1, 1, 1, 1, 1, 0, 0, 0, 0, 0, 0, 0,\n",
       "       0, 0, 0, 0, 0, 0, 0, 0, 0, 0, 0, 0, 0, 0, 0, 0, 1, 1, 1, 1, 1, 1,\n",
       "       0, 0, 0, 0, 0, 0, 0, 0, 0, 0, 0, 0, 0, 0, 0, 0, 0, 0, 0, 0, 0, 0,\n",
       "       0, 1, 1, 1, 1, 1, 0, 0, 0, 0, 0, 0, 0, 0, 0, 0, 0, 0, 0, 0, 0, 0,\n",
       "       0, 0, 0, 0, 0, 0, 0, 0, 0, 1, 1, 1, 1, 0, 0, 0, 0, 0, 0, 0, 0, 0,\n",
       "       0, 0, 0, 0, 0, 0, 0, 0, 0, 0, 0, 0, 1, 1, 1, 1, 1, 1, 1, 0, 0, 0,\n",
       "       0, 0, 0, 0, 0, 0, 0, 0, 0, 0, 0, 0, 0, 0, 0, 0, 1, 1, 1, 1, 1, 1,\n",
       "       1, 1, 0, 0, 0, 0, 0, 0, 0, 0, 0, 0, 0, 0, 0, 0, 0, 0, 0, 0, 1, 1,\n",
       "       1, 1, 1, 1, 1, 1, 1, 0, 0, 0, 0, 0, 0, 0, 0, 0, 0, 0, 0, 0, 0, 0,\n",
       "       0, 0, 1, 1, 1, 1, 1, 1, 1, 1, 1, 1, 0, 0, 0, 0, 0, 0, 0, 0, 0, 0,\n",
       "       0, 0, 0, 0, 0, 0, 1, 1, 1, 1, 1, 1, 1, 1, 1, 1, 0, 0, 0, 0, 0, 0,\n",
       "       0, 0, 0, 0, 0, 0, 0, 0, 0, 0, 1, 1, 1, 1, 1, 1, 1, 1, 1, 1, 0, 0,\n",
       "       0, 0, 0, 0, 0, 0, 0, 0, 0, 0, 0, 0, 0, 0, 0, 0, 1, 1, 1, 1, 1, 1,\n",
       "       1, 1, 0, 0, 0, 0, 0, 0, 0, 0, 0, 0, 0, 0, 0, 0, 0, 0, 0, 0, 0, 0,\n",
       "       0, 0, 0, 0, 0, 0, 0, 0, 0, 0, 0, 0, 0, 0, 0, 0, 0, 0, 0, 0, 0, 0,\n",
       "       0, 0, 0, 0, 0, 0, 0, 0, 0, 0, 0, 0, 0, 0, 0, 0, 0, 0, 0, 0, 0, 0,\n",
       "       0, 0, 0, 0, 0, 0, 0, 0, 0, 0, 0, 0, 0, 0, 0, 0, 0, 0, 0, 0, 0, 0,\n",
       "       0, 0, 0, 0, 0, 0, 0, 0, 0, 0, 0, 0, 0, 0], dtype=uint8)"
      ]
     },
     "execution_count": 9,
     "metadata": {},
     "output_type": "execute_result"
    }
   ],
   "source": [
    "x_train[0]"
   ]
  },
  {
   "cell_type": "markdown",
   "metadata": {},
   "source": [
    "# Making model "
   ]
  },
  {
   "cell_type": "markdown",
   "metadata": {},
   "source": [
    "First, I'd like to try guessing the number"
   ]
  },
  {
   "cell_type": "code",
   "execution_count": 10,
   "metadata": {},
   "outputs": [
    {
     "data": {
      "text/plain": [
       "9.733333333333333"
      ]
     },
     "execution_count": 10,
     "metadata": {},
     "output_type": "execute_result"
    }
   ],
   "source": [
    "from sklearn.metrics import accuracy_score\n",
    "\n",
    "def guess(x, y):\n",
    "    rand = []  \n",
    "    for i in range(x.shape[0]):\n",
    "        rand.append(np.random.randint(0,10))\n",
    "    \n",
    "    y = [np.argmax(i) for i in y]\n",
    "    acc = accuracy_score(y, rand) * 100\n",
    "    \n",
    "    return acc\n",
    "\n",
    "guess(x_train, y_train)"
   ]
  },
  {
   "cell_type": "markdown",
   "metadata": {},
   "source": [
    "Guessing have around 10% accuracy, like everyone can expect"
   ]
  },
  {
   "cell_type": "markdown",
   "metadata": {},
   "source": [
    "# Decision Tree"
   ]
  },
  {
   "cell_type": "code",
   "execution_count": 11,
   "metadata": {},
   "outputs": [],
   "source": [
    "from sklearn.tree import DecisionTreeClassifier\n",
    "\n",
    "model = DecisionTreeClassifier(criterion='entropy')\n",
    "model.fit(x_train, y_train)\n",
    "pred = model.predict(x_test)"
   ]
  },
  {
   "cell_type": "code",
   "execution_count": 12,
   "metadata": {},
   "outputs": [
    {
     "data": {
      "text/plain": [
       "89.53"
      ]
     },
     "execution_count": 12,
     "metadata": {},
     "output_type": "execute_result"
    }
   ],
   "source": [
    "acc = accuracy_score(y_test, pred) * 100\n",
    "acc"
   ]
  },
  {
   "cell_type": "markdown",
   "metadata": {},
   "source": [
    "It's significant better than guessing"
   ]
  },
  {
   "cell_type": "markdown",
   "metadata": {},
   "source": [
    "# Random Forest "
   ]
  },
  {
   "cell_type": "markdown",
   "metadata": {},
   "source": [
    "Let's check what number of n_estimators is best"
   ]
  },
  {
   "cell_type": "code",
   "execution_count": 13,
   "metadata": {},
   "outputs": [
    {
     "data": {
      "text/plain": [
       "GridSearchCV(cv=3, error_score='raise-deprecating',\n",
       "             estimator=RandomForestClassifier(bootstrap=True, class_weight=None,\n",
       "                                              criterion='gini', max_depth=None,\n",
       "                                              max_features='auto',\n",
       "                                              max_leaf_nodes=None,\n",
       "                                              min_impurity_decrease=0.0,\n",
       "                                              min_impurity_split=None,\n",
       "                                              min_samples_leaf=1,\n",
       "                                              min_samples_split=2,\n",
       "                                              min_weight_fraction_leaf=0.0,\n",
       "                                              n_estimators='warn', n_jobs=None,\n",
       "                                              oob_score=False,\n",
       "                                              random_state=None, verbose=0,\n",
       "                                              warm_start=False),\n",
       "             iid='warn', n_jobs=None,\n",
       "             param_grid={'n_estimators': [20, 50, 100]},\n",
       "             pre_dispatch='2*n_jobs', refit=True, return_train_score=False,\n",
       "             scoring=None, verbose=0)"
      ]
     },
     "execution_count": 13,
     "metadata": {},
     "output_type": "execute_result"
    }
   ],
   "source": [
    "from sklearn.ensemble import RandomForestClassifier\n",
    "from sklearn.model_selection import GridSearchCV\n",
    "\n",
    "parameters = {'n_estimators': [20, 50, 100]}\n",
    "\n",
    "forest = RandomForestClassifier()\n",
    "\n",
    "gridsearch = GridSearchCV(estimator=forest, param_grid=parameters, cv=3)\n",
    "\n",
    "best_model = gridsearch.fit(x_train, y_train)\n",
    "best_model"
   ]
  },
  {
   "cell_type": "code",
   "execution_count": 14,
   "metadata": {},
   "outputs": [
    {
     "data": {
      "text/plain": [
       "{'bootstrap': True,\n",
       " 'class_weight': None,\n",
       " 'criterion': 'gini',\n",
       " 'max_depth': None,\n",
       " 'max_features': 'auto',\n",
       " 'max_leaf_nodes': None,\n",
       " 'min_impurity_decrease': 0.0,\n",
       " 'min_impurity_split': None,\n",
       " 'min_samples_leaf': 1,\n",
       " 'min_samples_split': 2,\n",
       " 'min_weight_fraction_leaf': 0.0,\n",
       " 'n_estimators': 100,\n",
       " 'n_jobs': None,\n",
       " 'oob_score': False,\n",
       " 'random_state': None,\n",
       " 'verbose': 0,\n",
       " 'warm_start': False}"
      ]
     },
     "execution_count": 14,
     "metadata": {},
     "output_type": "execute_result"
    }
   ],
   "source": [
    "best_model.best_estimator_.get_params()"
   ]
  },
  {
   "cell_type": "code",
   "execution_count": 15,
   "metadata": {},
   "outputs": [
    {
     "data": {
      "text/plain": [
       "96.88"
      ]
     },
     "execution_count": 15,
     "metadata": {},
     "output_type": "execute_result"
    }
   ],
   "source": [
    "model = RandomForestClassifier(n_estimators=100)\n",
    "model.fit(x_train, y_train)\n",
    "pred = model.predict(x_test)\n",
    "acc = accuracy_score(y_test, pred) * 100\n",
    "acc"
   ]
  },
  {
   "cell_type": "markdown",
   "metadata": {},
   "source": [
    "# Neural network"
   ]
  },
  {
   "cell_type": "markdown",
   "metadata": {},
   "source": [
    "I need to change y's (outputs)"
   ]
  },
  {
   "cell_type": "code",
   "execution_count": 16,
   "metadata": {},
   "outputs": [
    {
     "data": {
      "text/plain": [
       "array([0., 0., 0., 0., 0., 1., 0., 0., 0., 0.], dtype=float32)"
      ]
     },
     "execution_count": 16,
     "metadata": {},
     "output_type": "execute_result"
    }
   ],
   "source": [
    "y_train = np_utils.to_categorical(y_train)\n",
    "y_test = np_utils.to_categorical(y_test)\n",
    "\n",
    "y_train[0]"
   ]
  },
  {
   "cell_type": "markdown",
   "metadata": {},
   "source": [
    "Create model"
   ]
  },
  {
   "cell_type": "code",
   "execution_count": 17,
   "metadata": {},
   "outputs": [],
   "source": [
    "from keras import models\n",
    "from keras import layers\n",
    "\n",
    "def create_model():\n",
    "    model = models.Sequential()\n",
    "    model.add(layers.Dense(256, activation=\"relu\", input_shape=(784,)))\n",
    "    model.add(layers.Dense(128, activation=\"relu\"))\n",
    "    model.add(layers.Dense(10, activation=\"softmax\"))\n",
    "    model.compile(loss=\"categorical_crossentropy\", optimizer=\"adam\", metrics=[\"accuracy\"])\n",
    "    return model\n",
    "\n",
    "model = create_model()"
   ]
  },
  {
   "cell_type": "markdown",
   "metadata": {},
   "source": [
    "I need validation data also for better view of results"
   ]
  },
  {
   "cell_type": "code",
   "execution_count": 18,
   "metadata": {},
   "outputs": [],
   "source": [
    "import math\n",
    "\n",
    "x_val = x_train[math.ceil(x_train.shape[0] * .7) :]\n",
    "y_val = y_train[math.ceil(y_train.shape[0] * .7) :]\n",
    "x_train = x_train[: math.ceil(x_train.shape[0] * .7)]\n",
    "y_train = y_train[: math.ceil(y_train.shape[0] * .7)]"
   ]
  },
  {
   "cell_type": "code",
   "execution_count": 19,
   "metadata": {},
   "outputs": [
    {
     "name": "stdout",
     "output_type": "stream",
     "text": [
      "Train on 42000 samples, validate on 18000 samples\n",
      "Epoch 1/10\n",
      "42000/42000 [==============================] - 2s 39us/step - loss: 0.3237 - accuracy: 0.9045 - val_loss: 0.1768 - val_accuracy: 0.9459\n",
      "Epoch 2/10\n",
      "42000/42000 [==============================] - 1s 35us/step - loss: 0.1338 - accuracy: 0.9590 - val_loss: 0.1503 - val_accuracy: 0.9529\n",
      "Epoch 3/10\n",
      "42000/42000 [==============================] - 2s 36us/step - loss: 0.0906 - accuracy: 0.9714 - val_loss: 0.1296 - val_accuracy: 0.9604\n",
      "Epoch 4/10\n",
      "42000/42000 [==============================] - 1s 34us/step - loss: 0.0678 - accuracy: 0.9789 - val_loss: 0.1284 - val_accuracy: 0.9616\n",
      "Epoch 5/10\n",
      "42000/42000 [==============================] - 1s 34us/step - loss: 0.0515 - accuracy: 0.9839 - val_loss: 0.1295 - val_accuracy: 0.9609\n",
      "Epoch 6/10\n",
      "42000/42000 [==============================] - 2s 36us/step - loss: 0.0393 - accuracy: 0.9874 - val_loss: 0.1333 - val_accuracy: 0.9622\n",
      "Epoch 7/10\n",
      "42000/42000 [==============================] - 1s 35us/step - loss: 0.0311 - accuracy: 0.9901 - val_loss: 0.1236 - val_accuracy: 0.9654\n",
      "Epoch 8/10\n",
      "42000/42000 [==============================] - 1s 35us/step - loss: 0.0250 - accuracy: 0.9921 - val_loss: 0.1272 - val_accuracy: 0.9680\n",
      "Epoch 9/10\n",
      "42000/42000 [==============================] - 2s 36us/step - loss: 0.0199 - accuracy: 0.9934 - val_loss: 0.1195 - val_accuracy: 0.9689\n",
      "Epoch 10/10\n",
      "42000/42000 [==============================] - 1s 35us/step - loss: 0.0139 - accuracy: 0.9956 - val_loss: 0.1338 - val_accuracy: 0.9673\n"
     ]
    }
   ],
   "source": [
    "history = model.fit(x_train, y_train, epochs=10, verbose=1, batch_size=128, validation_data=(x_val, y_val))"
   ]
  },
  {
   "cell_type": "code",
   "execution_count": 20,
   "metadata": {},
   "outputs": [
    {
     "data": {
      "text/plain": [
       "97.05"
      ]
     },
     "execution_count": 20,
     "metadata": {},
     "output_type": "execute_result"
    }
   ],
   "source": [
    "pred = model.predict(x_test)\n",
    "pred_max = [np.argmax(i) for i in pred]\n",
    "y_test_max = [np.argmax(i) for i in y_test]\n",
    "acc = accuracy_score(y_test_max, pred_max) * 100\n",
    "acc"
   ]
  },
  {
   "cell_type": "markdown",
   "metadata": {},
   "source": [
    "Visualize training history"
   ]
  },
  {
   "cell_type": "code",
   "execution_count": 21,
   "metadata": {},
   "outputs": [],
   "source": [
    "training_loss = history.history[\"loss\"]\n",
    "val_loss = history.history[\"val_loss\"]\n",
    "epochs = range(1, len(training_loss)+1)"
   ]
  },
  {
   "cell_type": "code",
   "execution_count": 22,
   "metadata": {},
   "outputs": [
    {
     "data": {
      "image/png": "[encoded data removed]",
      "text/plain": [
       "<Figure size 432x288 with 1 Axes>"
      ]
     },
     "metadata": {
      "needs_background": "light"
     },
     "output_type": "display_data"
    }
   ],
   "source": [
    "plt.plot(epochs, training_loss, \"b\")\n",
    "plt.plot(epochs, val_loss, \"r\")\n",
    "plt.title(\"Loss by epochs\")\n",
    "plt.legend([\"Training\", \"Validation\"])\n",
    "plt.xlabel(\"epochs\")\n",
    "plt.ylabel(\"loss\")\n",
    "plt.show()"
   ]
  },
  {
   "cell_type": "code",
   "execution_count": 23,
   "metadata": {},
   "outputs": [],
   "source": [
    "training_acc = history.history[\"accuracy\"]\n",
    "val_acc = history.history[\"val_accuracy\"]"
   ]
  },
  {
   "cell_type": "code",
   "execution_count": 24,
   "metadata": {},
   "outputs": [
    {
     "data": {
      "image/png": "[encoded data removed]",
      "text/plain": [
       "<Figure size 432x288 with 1 Axes>"
      ]
     },
     "metadata": {
      "needs_background": "light"
     },
     "output_type": "display_data"
    }
   ],
   "source": [
    "plt.plot(epochs, training_acc, \"b\")\n",
    "plt.plot(epochs, val_acc, \"r\")\n",
    "plt.title(\"Accuracy by epochs\")\n",
    "plt.legend([\"Training\", \"Validation\"])\n",
    "plt.xlabel(\"epochs\")\n",
    "plt.ylabel(\"acc\")\n",
    "plt.show()"
   ]
  },
  {
   "cell_type": "markdown",
   "metadata": {},
   "source": [
    "I can see here an overfitting."
   ]
  },
  {
   "cell_type": "markdown",
   "metadata": {},
   "source": [
    "I will try kernel regularizers to deal with overfitting"
   ]
  },
  {
   "cell_type": "code",
   "execution_count": 25,
   "metadata": {},
   "outputs": [
    {
     "name": "stdout",
     "output_type": "stream",
     "text": [
      "Train on 42000 samples, validate on 18000 samples\n",
      "Epoch 1/20\n",
      "42000/42000 [==============================] - 2s 48us/step - loss: 1.5783 - accuracy: 0.8810 - val_loss: 0.6631 - val_accuracy: 0.9073\n",
      "Epoch 2/20\n",
      "42000/42000 [==============================] - 2s 42us/step - loss: 0.5645 - accuracy: 0.9179 - val_loss: 0.5145 - val_accuracy: 0.9213\n",
      "Epoch 3/20\n",
      "42000/42000 [==============================] - 2s 38us/step - loss: 0.4920 - accuracy: 0.9256 - val_loss: 0.4787 - val_accuracy: 0.9252\n",
      "Epoch 4/20\n",
      "42000/42000 [==============================] - 2s 39us/step - loss: 0.4530 - accuracy: 0.9326 - val_loss: 0.4295 - val_accuracy: 0.9349\n",
      "Epoch 5/20\n",
      "42000/42000 [==============================] - 2s 44us/step - loss: 0.4265 - accuracy: 0.9370 - val_loss: 0.4384 - val_accuracy: 0.9295\n",
      "Epoch 6/20\n",
      "42000/42000 [==============================] - 2s 43us/step - loss: 0.4113 - accuracy: 0.9386 - val_loss: 0.3992 - val_accuracy: 0.9422\n",
      "Epoch 7/20\n",
      "42000/42000 [==============================] - 2s 44us/step - loss: 0.3912 - accuracy: 0.9423 - val_loss: 0.3915 - val_accuracy: 0.9396\n",
      "Epoch 8/20\n",
      "42000/42000 [==============================] - 2s 40us/step - loss: 0.3737 - accuracy: 0.9447 - val_loss: 0.3767 - val_accuracy: 0.9391\n",
      "Epoch 9/20\n",
      "42000/42000 [==============================] - 2s 44us/step - loss: 0.3625 - accuracy: 0.9462 - val_loss: 0.3600 - val_accuracy: 0.9461\n",
      "Epoch 10/20\n",
      "42000/42000 [==============================] - 2s 45us/step - loss: 0.3504 - accuracy: 0.9481 - val_loss: 0.3574 - val_accuracy: 0.9424\n",
      "Epoch 11/20\n",
      "42000/42000 [==============================] - 2s 41us/step - loss: 0.3379 - accuracy: 0.9504 - val_loss: 0.3513 - val_accuracy: 0.9444\n",
      "Epoch 12/20\n",
      "42000/42000 [==============================] - 2s 42us/step - loss: 0.3320 - accuracy: 0.9518 - val_loss: 0.3237 - val_accuracy: 0.9516\n",
      "Epoch 13/20\n",
      "42000/42000 [==============================] - 2s 58us/step - loss: 0.3200 - accuracy: 0.9529 - val_loss: 0.3193 - val_accuracy: 0.9526\n",
      "Epoch 14/20\n",
      "42000/42000 [==============================] - 2s 53us/step - loss: 0.3117 - accuracy: 0.9541 - val_loss: 0.3176 - val_accuracy: 0.9489\n",
      "Epoch 15/20\n",
      "42000/42000 [==============================] - 2s 53us/step - loss: 0.3111 - accuracy: 0.9523 - val_loss: 0.3397 - val_accuracy: 0.9400\n",
      "Epoch 16/20\n",
      "42000/42000 [==============================] - 2s 46us/step - loss: 0.3054 - accuracy: 0.9542 - val_loss: 0.3026 - val_accuracy: 0.9546\n",
      "Epoch 17/20\n",
      "42000/42000 [==============================] - 2s 49us/step - loss: 0.2960 - accuracy: 0.9554 - val_loss: 0.3119 - val_accuracy: 0.9491\n",
      "Epoch 18/20\n",
      "42000/42000 [==============================] - 2s 39us/step - loss: 0.2904 - accuracy: 0.9558 - val_loss: 0.2997 - val_accuracy: 0.9543\n",
      "Epoch 19/20\n",
      "42000/42000 [==============================] - 2s 43us/step - loss: 0.2872 - accuracy: 0.9565 - val_loss: 0.3121 - val_accuracy: 0.9492\n",
      "Epoch 20/20\n",
      "42000/42000 [==============================] - 2s 44us/step - loss: 0.2853 - accuracy: 0.9571 - val_loss: 0.3009 - val_accuracy: 0.9506\n"
     ]
    }
   ],
   "source": [
    "from keras import regularizers\n",
    "\n",
    "def create_model():\n",
    "    model = models.Sequential()\n",
    "    model.add(layers.Dense(256, activation=\"relu\", kernel_regularizer=regularizers.l2(0.01), input_shape=(784,)))\n",
    "    model.add(layers.Dense(128, activation=\"relu\", kernel_regularizer=regularizers.l2(0.01)))\n",
    "    model.add(layers.Dense(10, activation=\"softmax\"))\n",
    "    model.compile(loss=\"categorical_crossentropy\", optimizer=\"adam\", metrics=[\"accuracy\"])\n",
    "    return model\n",
    "\n",
    "model = create_model()\n",
    "history = model.fit(x_train, y_train, epochs=20, verbose=1, batch_size=128, validation_data=(x_val, y_val))"
   ]
  },
  {
   "cell_type": "code",
   "execution_count": 26,
   "metadata": {},
   "outputs": [
    {
     "data": {
      "text/plain": [
       "95.35"
      ]
     },
     "execution_count": 26,
     "metadata": {},
     "output_type": "execute_result"
    }
   ],
   "source": [
    "pred = model.predict(x_test)\n",
    "pred_max = [np.argmax(i) for i in pred]\n",
    "y_test_max = [np.argmax(i) for i in y_test]\n",
    "acc = accuracy_score(y_test_max, pred_max) * 100\n",
    "acc"
   ]
  },
  {
   "cell_type": "code",
   "execution_count": 27,
   "metadata": {},
   "outputs": [
    {
     "data": {
      "image/png": "[encoded data removed]",
      "text/plain": [
       "<Figure size 432x288 with 1 Axes>"
      ]
     },
     "metadata": {
      "needs_background": "light"
     },
     "output_type": "display_data"
    }
   ],
   "source": [
    "training_loss = history.history[\"loss\"]\n",
    "val_loss = history.history[\"val_loss\"]\n",
    "epochs = range(1, len(training_loss)+1)\n",
    "plt.plot(epochs, training_loss, \"b\")\n",
    "plt.plot(epochs, val_loss, \"r\")\n",
    "plt.title(\"Loss by epochs\")\n",
    "plt.legend([\"Training\", \"Validation\"])\n",
    "plt.xlabel(\"epochs\")\n",
    "plt.ylabel(\"loss\")\n",
    "plt.show()"
   ]
  },
  {
   "cell_type": "markdown",
   "metadata": {},
   "source": [
    "It helped with overfitting but not so much"
   ]
  },
  {
   "cell_type": "markdown",
   "metadata": {},
   "source": [
    "So i will try dropout"
   ]
  },
  {
   "cell_type": "code",
   "execution_count": 28,
   "metadata": {},
   "outputs": [
    {
     "name": "stdout",
     "output_type": "stream",
     "text": [
      "Train on 42000 samples, validate on 18000 samples\n",
      "Epoch 1/10\n",
      "42000/42000 [==============================] - 2s 51us/step - loss: 1.7058 - accuracy: 0.8515 - val_loss: 0.6579 - val_accuracy: 0.9094\n",
      "Epoch 2/10\n",
      "42000/42000 [==============================] - 2s 47us/step - loss: 0.6075 - accuracy: 0.9065 - val_loss: 0.5337 - val_accuracy: 0.9147\n",
      "Epoch 3/10\n",
      "42000/42000 [==============================] - 2s 45us/step - loss: 0.5421 - accuracy: 0.9123 - val_loss: 0.4870 - val_accuracy: 0.9291\n",
      "Epoch 4/10\n",
      "42000/42000 [==============================] - 2s 48us/step - loss: 0.5124 - accuracy: 0.9183 - val_loss: 0.4644 - val_accuracy: 0.9298\n",
      "Epoch 5/10\n",
      "42000/42000 [==============================] - 2s 56us/step - loss: 0.4896 - accuracy: 0.9228 - val_loss: 0.4503 - val_accuracy: 0.9298\n",
      "Epoch 6/10\n",
      "42000/42000 [==============================] - 2s 51us/step - loss: 0.4743 - accuracy: 0.9253 - val_loss: 0.4331 - val_accuracy: 0.9347\n",
      "Epoch 7/10\n",
      "42000/42000 [==============================] - 3s 61us/step - loss: 0.4639 - accuracy: 0.9266 - val_loss: 0.4253 - val_accuracy: 0.9331\n",
      "Epoch 8/10\n",
      "42000/42000 [==============================] - 2s 48us/step - loss: 0.4477 - accuracy: 0.9295 - val_loss: 0.4060 - val_accuracy: 0.9418\n",
      "Epoch 9/10\n",
      "42000/42000 [==============================] - 2s 58us/step - loss: 0.4359 - accuracy: 0.9322 - val_loss: 0.4232 - val_accuracy: 0.9363\n",
      "Epoch 10/10\n",
      "42000/42000 [==============================] - 2s 52us/step - loss: 0.4392 - accuracy: 0.9311 - val_loss: 0.3986 - val_accuracy: 0.9417\n"
     ]
    }
   ],
   "source": [
    "def create_model():\n",
    "    model = models.Sequential()\n",
    "    model.add(layers.Dense(256, activation=\"relu\", kernel_regularizer=regularizers.l2(0.01), input_shape=(784,)))\n",
    "    model.add(layers.Dropout(0.2))\n",
    "    model.add(layers.Dense(128, activation=\"relu\", kernel_regularizer=regularizers.l2(0.01)))\n",
    "    model.add(layers.Dropout(0.2))\n",
    "    model.add(layers.Dense(10, activation=\"softmax\"))\n",
    "    model.compile(loss=\"categorical_crossentropy\", optimizer=\"adam\", metrics=[\"accuracy\"])\n",
    "    return model\n",
    "\n",
    "model = create_model()\n",
    "history = model.fit(x_train, y_train, epochs=10, verbose=1, batch_size=128, validation_data=(x_val, y_val))"
   ]
  },
  {
   "cell_type": "code",
   "execution_count": 29,
   "metadata": {},
   "outputs": [
    {
     "data": {
      "text/plain": [
       "94.07"
      ]
     },
     "execution_count": 29,
     "metadata": {},
     "output_type": "execute_result"
    }
   ],
   "source": [
    "pred = model.predict(x_test)\n",
    "pred_max = [np.argmax(i) for i in pred]\n",
    "y_test_max = [np.argmax(i) for i in y_test]\n",
    "acc = accuracy_score(y_test_max, pred_max) * 100\n",
    "acc"
   ]
  },
  {
   "cell_type": "markdown",
   "metadata": {},
   "source": [
    "First model was the best one (the simplest one)"
   ]
  },
  {
   "cell_type": "markdown",
   "metadata": {},
   "source": [
    "Maybe this task isn't so complicated and doesn't need unnecessary complications"
   ]
  },
  {
   "cell_type": "markdown",
   "metadata": {},
   "source": [
    "# Convolution neural network"
   ]
  },
  {
   "cell_type": "markdown",
   "metadata": {},
   "source": [
    "First i need to reshape my data"
   ]
  },
  {
   "cell_type": "code",
   "execution_count": 30,
   "metadata": {},
   "outputs": [],
   "source": [
    "x_train = x_train.reshape(x_train.shape[0], 28, 28, 1)\n",
    "x_val = x_val.reshape(x_val.shape[0], 28, 28, 1)\n",
    "x_test = x_test.reshape(x_test.shape[0], 28, 28, 1)"
   ]
  },
  {
   "cell_type": "code",
   "execution_count": 31,
   "metadata": {},
   "outputs": [],
   "source": [
    "from keras import optimizers\n",
    "\n",
    "def create_model():\n",
    "    model = models.Sequential()\n",
    "    model.add(layers.Conv2D(32, (3, 3), activation=\"relu\", kernel_initializer='he_uniform', input_shape=(28, 28, 1)))\n",
    "    model.add(layers.MaxPooling2D((2,2)))\n",
    "    model.add(layers.Conv2D(64, (3, 3), activation=\"relu\", kernel_initializer='he_uniform'))\n",
    "    model.add(layers.Conv2D(64, (3, 3), activation=\"relu\", kernel_initializer='he_uniform'))\n",
    "    model.add(layers.MaxPooling2D((2,2)))\n",
    "    model.add(layers.Flatten())\n",
    "    model.add(layers.Dense(128, activation=\"relu\"))\n",
    "    model.add(layers.Dense(10, activation=\"softmax\"))\n",
    "    \n",
    "    sgd = optimizers.SGD(lr=0.01, momentum=0.9)\n",
    "    model.compile(loss=\"categorical_crossentropy\", optimizer=sgd, metrics=[\"accuracy\"])\n",
    "    return model"
   ]
  },
  {
   "cell_type": "code",
   "execution_count": 32,
   "metadata": {},
   "outputs": [
    {
     "name": "stdout",
     "output_type": "stream",
     "text": [
      "Train on 42000 samples, validate on 18000 samples\n",
      "Epoch 1/10\n",
      "42000/42000 [==============================] - 34s 804us/step - loss: 0.3074 - accuracy: 0.9063 - val_loss: 0.1236 - val_accuracy: 0.9618\n",
      "Epoch 2/10\n",
      "42000/42000 [==============================] - 35s 844us/step - loss: 0.0824 - accuracy: 0.9742 - val_loss: 0.0816 - val_accuracy: 0.9742\n",
      "Epoch 3/10\n",
      "42000/42000 [==============================] - 34s 818us/step - loss: 0.0613 - accuracy: 0.9809 - val_loss: 0.0716 - val_accuracy: 0.9797\n",
      "Epoch 4/10\n",
      "42000/42000 [==============================] - 35s 835us/step - loss: 0.0478 - accuracy: 0.9852 - val_loss: 0.0665 - val_accuracy: 0.9794\n",
      "Epoch 5/10\n",
      "42000/42000 [==============================] - 31s 728us/step - loss: 0.0375 - accuracy: 0.9884 - val_loss: 0.0693 - val_accuracy: 0.9809\n",
      "Epoch 6/10\n",
      "42000/42000 [==============================] - 31s 728us/step - loss: 0.0333 - accuracy: 0.9889 - val_loss: 0.0564 - val_accuracy: 0.9837\n",
      "Epoch 7/10\n",
      "42000/42000 [==============================] - 31s 741us/step - loss: 0.0257 - accuracy: 0.9917 - val_loss: 0.0670 - val_accuracy: 0.9815\n",
      "Epoch 8/10\n",
      "42000/42000 [==============================] - 31s 731us/step - loss: 0.0230 - accuracy: 0.9923 - val_loss: 0.0598 - val_accuracy: 0.9830\n",
      "Epoch 9/10\n",
      "42000/42000 [==============================] - 31s 729us/step - loss: 0.0173 - accuracy: 0.9945 - val_loss: 0.0567 - val_accuracy: 0.9839\n",
      "Epoch 10/10\n",
      "42000/42000 [==============================] - 31s 734us/step - loss: 0.0149 - accuracy: 0.9952 - val_loss: 0.0547 - val_accuracy: 0.9853\n"
     ]
    }
   ],
   "source": [
    "model = create_model()\n",
    "\n",
    "history = model.fit(x_train, y_train, epochs=10, verbose=1, batch_size=128, validation_data=(x_val, y_val))"
   ]
  },
  {
   "cell_type": "code",
   "execution_count": 33,
   "metadata": {},
   "outputs": [
    {
     "data": {
      "text/plain": [
       "98.74000000000001"
      ]
     },
     "execution_count": 33,
     "metadata": {},
     "output_type": "execute_result"
    }
   ],
   "source": [
    "pred = model.predict(x_test)\n",
    "pred_max = [np.argmax(i) for i in pred]\n",
    "y_test_max = [np.argmax(i) for i in y_test]\n",
    "acc = accuracy_score(y_test_max, pred_max) * 100\n",
    "acc"
   ]
  },
  {
   "cell_type": "code",
   "execution_count": 34,
   "metadata": {},
   "outputs": [
    {
     "data": {
      "image/png": "[encoded data removed]",
      "text/plain": [
       "<Figure size 432x288 with 1 Axes>"
      ]
     },
     "metadata": {
      "needs_background": "light"
     },
     "output_type": "display_data"
    }
   ],
   "source": [
    "training_loss = history.history[\"loss\"]\n",
    "val_loss = history.history[\"val_loss\"]\n",
    "epochs = range(1, len(training_loss)+1)\n",
    "plt.plot(epochs, training_loss, \"b\")\n",
    "plt.plot(epochs, val_loss, \"r\")\n",
    "plt.title(\"Loss by epochs\")\n",
    "plt.legend([\"Training\", \"Validation\"])\n",
    "plt.xlabel(\"epochs\")\n",
    "plt.ylabel(\"loss\")\n",
    "plt.show()"
   ]
  },
  {
   "cell_type": "markdown",
   "metadata": {},
   "source": [
    "I think it's pretty good score "
   ]
  },
  {
   "cell_type": "markdown",
   "metadata": {},
   "source": [
    "I was inspired by vgg16 creating this model"
   ]
  },
  {
   "cell_type": "code",
   "execution_count": null,
   "metadata": {},
   "outputs": [],
   "source": []
  }
 ],
 "metadata": {
  "kernelspec": {
   "display_name": "Python 3",
   "language": "python",
   "name": "python3"
  },
  "language_info": {
   "codemirror_mode": {
    "name": "ipython",
    "version": 3
   },
   "file_extension": ".py",
   "mimetype": "text/x-python",
   "name": "python",
   "nbconvert_exporter": "python",
   "pygments_lexer": "ipython3",
   "version": "3.7.3"
  }
 },
 "nbformat": 4,
 "nbformat_minor": 2
}
