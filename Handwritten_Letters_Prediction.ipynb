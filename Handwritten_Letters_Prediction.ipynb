{
 "cells": [
  {
   "cell_type": "markdown",
   "metadata": {},
   "source": [
    "# Importing libraries and load data"
   ]
  },
  {
   "cell_type": "code",
   "execution_count": 6,
   "metadata": {},
   "outputs": [
    {
     "name": "stdout",
     "output_type": "stream",
     "text": [
      "(60000, 28, 28)\n",
      "(60000,)\n",
      "(10000, 28, 28)\n",
      "(10000,)\n"
     ]
    }
   ],
   "source": [
    "import numpy as np\n",
    "import matplotlib.pyplot as plt\n",
    "from keras.datasets import mnist\n",
    "from keras.utils import np_utils\n",
    "\n",
    "\n",
    "(x_train, y_train), (x_test, y_test) = mnist.load_data()\n",
    "\n",
    "print(x_train.shape)\n",
    "print(y_train.shape)\n",
    "print(x_test.shape)\n",
    "print(y_test.shape)"
   ]
  },
  {
   "cell_type": "markdown",
   "metadata": {},
   "source": [
    "# Understanding data"
   ]
  },
  {
   "cell_type": "code",
   "execution_count": 7,
   "metadata": {},
   "outputs": [
    {
     "data": {
      "image/png": "[encoded data removed]",
      "text/plain": [
       "<Figure size 1152x576 with 4 Axes>"
      ]
     },
     "metadata": {
      "needs_background": "light"
     },
     "output_type": "display_data"
    }
   ],
   "source": [
    "plt.figure(figsize=(16,8))\n",
    "for i in range(4):\n",
    "    plt.subplot(2,2,i+1)\n",
    "    plt.imshow(x_train[i], cmap='gray')\n",
    "plt.show()"
   ]
  },
  {
   "cell_type": "code",
   "execution_count": 8,
   "metadata": {},
   "outputs": [
    {
     "name": "stdout",
     "output_type": "stream",
     "text": [
      "0\n",
      "253\n"
     ]
    }
   ],
   "source": [
    "print(x_train[0][0][0])\n",
    "print(x_train[0][7][15])"
   ]
  },
  {
   "cell_type": "markdown",
   "metadata": {},
   "source": [
    "Images are represented in one channel"
   ]
  },
  {
   "cell_type": "markdown",
   "metadata": {},
   "source": [
    "From 0(black) to 255(white)"
   ]
  },
  {
   "cell_type": "markdown",
   "metadata": {},
   "source": [
    "Background has value 0, and everything that has been written has value greater than 0"
   ]
  },
  {
   "cell_type": "code",
   "execution_count": 9,
   "metadata": {},
   "outputs": [
    {
     "data": {
      "text/plain": [
       "5"
      ]
     },
     "execution_count": 9,
     "metadata": {},
     "output_type": "execute_result"
    }
   ],
   "source": [
    "y_train[0]"
   ]
  },
  {
   "cell_type": "markdown",
   "metadata": {},
   "source": [
    "I need a matrix with zeros and one on 5th index for y"
   ]
  },
  {
   "cell_type": "markdown",
   "metadata": {},
   "source": [
    "# Preparing data"
   ]
  },
  {
   "cell_type": "code",
   "execution_count": 10,
   "metadata": {},
   "outputs": [],
   "source": [
    "x_train = x_train.reshape((x_train.shape[0], x_train.shape[1]**2))\n",
    "x_test = x_test.reshape(x_test.shape[0], x_test.shape[1]**2)"
   ]
  },
  {
   "cell_type": "code",
   "execution_count": 11,
   "metadata": {},
   "outputs": [
    {
     "data": {
      "text/plain": [
       "(60000, 784)"
      ]
     },
     "execution_count": 11,
     "metadata": {},
     "output_type": "execute_result"
    }
   ],
   "source": [
    "x_train.shape"
   ]
  },
  {
   "cell_type": "code",
   "execution_count": 12,
   "metadata": {},
   "outputs": [],
   "source": [
    "def adjust_data(x):\n",
    "    for i in range(x.shape[0]):\n",
    "        for j in range(x.shape[1]):\n",
    "            if x[i][j] > 0:\n",
    "                x[i][j] = 1\n",
    "\n",
    "adjust_data(x_train)\n",
    "adjust_data(x_test)"
   ]
  },
  {
   "cell_type": "code",
   "execution_count": 13,
   "metadata": {},
   "outputs": [
    {
     "data": {
      "text/plain": [
       "array([0, 0, 0, 0, 0, 0, 0, 0, 0, 0, 0, 0, 0, 0, 0, 0, 0, 0, 0, 0, 0, 0,\n",
       "       0, 0, 0, 0, 0, 0, 0, 0, 0, 0, 0, 0, 0, 0, 0, 0, 0, 0, 0, 0, 0, 0,\n",
       "       0, 0, 0, 0, 0, 0, 0, 0, 0, 0, 0, 0, 0, 0, 0, 0, 0, 0, 0, 0, 0, 0,\n",
       "       0, 0, 0, 0, 0, 0, 0, 0, 0, 0, 0, 0, 0, 0, 0, 0, 0, 0, 0, 0, 0, 0,\n",
       "       0, 0, 0, 0, 0, 0, 0, 0, 0, 0, 0, 0, 0, 0, 0, 0, 0, 0, 0, 0, 0, 0,\n",
       "       0, 0, 0, 0, 0, 0, 0, 0, 0, 0, 0, 0, 0, 0, 0, 0, 0, 0, 0, 0, 0, 0,\n",
       "       0, 0, 0, 0, 0, 0, 0, 0, 0, 0, 0, 0, 0, 0, 0, 0, 0, 0, 0, 0, 1, 1,\n",
       "       1, 1, 1, 1, 1, 1, 1, 1, 1, 1, 0, 0, 0, 0, 0, 0, 0, 0, 0, 0, 0, 0,\n",
       "       1, 1, 1, 1, 1, 1, 1, 1, 1, 1, 1, 1, 1, 1, 1, 1, 0, 0, 0, 0, 0, 0,\n",
       "       0, 0, 0, 0, 0, 1, 1, 1, 1, 1, 1, 1, 1, 1, 1, 1, 1, 1, 1, 1, 1, 0,\n",
       "       0, 0, 0, 0, 0, 0, 0, 0, 0, 0, 0, 1, 1, 1, 1, 1, 1, 1, 1, 1, 1, 1,\n",
       "       0, 0, 0, 0, 0, 0, 0, 0, 0, 0, 0, 0, 0, 0, 0, 0, 0, 0, 1, 1, 1, 1,\n",
       "       1, 1, 1, 0, 1, 1, 0, 0, 0, 0, 0, 0, 0, 0, 0, 0, 0, 0, 0, 0, 0, 0,\n",
       "       0, 0, 0, 1, 1, 1, 1, 1, 0, 0, 0, 0, 0, 0, 0, 0, 0, 0, 0, 0, 0, 0,\n",
       "       0, 0, 0, 0, 0, 0, 0, 0, 0, 0, 0, 1, 1, 1, 1, 0, 0, 0, 0, 0, 0, 0,\n",
       "       0, 0, 0, 0, 0, 0, 0, 0, 0, 0, 0, 0, 0, 0, 0, 0, 0, 1, 1, 1, 1, 0,\n",
       "       0, 0, 0, 0, 0, 0, 0, 0, 0, 0, 0, 0, 0, 0, 0, 0, 0, 0, 0, 0, 0, 0,\n",
       "       0, 0, 1, 1, 1, 1, 1, 1, 0, 0, 0, 0, 0, 0, 0, 0, 0, 0, 0, 0, 0, 0,\n",
       "       0, 0, 0, 0, 0, 0, 0, 0, 0, 1, 1, 1, 1, 1, 1, 0, 0, 0, 0, 0, 0, 0,\n",
       "       0, 0, 0, 0, 0, 0, 0, 0, 0, 0, 0, 0, 0, 0, 0, 0, 1, 1, 1, 1, 1, 1,\n",
       "       0, 0, 0, 0, 0, 0, 0, 0, 0, 0, 0, 0, 0, 0, 0, 0, 0, 0, 0, 0, 0, 0,\n",
       "       0, 1, 1, 1, 1, 1, 0, 0, 0, 0, 0, 0, 0, 0, 0, 0, 0, 0, 0, 0, 0, 0,\n",
       "       0, 0, 0, 0, 0, 0, 0, 0, 0, 1, 1, 1, 1, 0, 0, 0, 0, 0, 0, 0, 0, 0,\n",
       "       0, 0, 0, 0, 0, 0, 0, 0, 0, 0, 0, 0, 1, 1, 1, 1, 1, 1, 1, 0, 0, 0,\n",
       "       0, 0, 0, 0, 0, 0, 0, 0, 0, 0, 0, 0, 0, 0, 0, 0, 1, 1, 1, 1, 1, 1,\n",
       "       1, 1, 0, 0, 0, 0, 0, 0, 0, 0, 0, 0, 0, 0, 0, 0, 0, 0, 0, 0, 1, 1,\n",
       "       1, 1, 1, 1, 1, 1, 1, 0, 0, 0, 0, 0, 0, 0, 0, 0, 0, 0, 0, 0, 0, 0,\n",
       "       0, 0, 1, 1, 1, 1, 1, 1, 1, 1, 1, 1, 0, 0, 0, 0, 0, 0, 0, 0, 0, 0,\n",
       "       0, 0, 0, 0, 0, 0, 1, 1, 1, 1, 1, 1, 1, 1, 1, 1, 0, 0, 0, 0, 0, 0,\n",
       "       0, 0, 0, 0, 0, 0, 0, 0, 0, 0, 1, 1, 1, 1, 1, 1, 1, 1, 1, 1, 0, 0,\n",
       "       0, 0, 0, 0, 0, 0, 0, 0, 0, 0, 0, 0, 0, 0, 0, 0, 1, 1, 1, 1, 1, 1,\n",
       "       1, 1, 0, 0, 0, 0, 0, 0, 0, 0, 0, 0, 0, 0, 0, 0, 0, 0, 0, 0, 0, 0,\n",
       "       0, 0, 0, 0, 0, 0, 0, 0, 0, 0, 0, 0, 0, 0, 0, 0, 0, 0, 0, 0, 0, 0,\n",
       "       0, 0, 0, 0, 0, 0, 0, 0, 0, 0, 0, 0, 0, 0, 0, 0, 0, 0, 0, 0, 0, 0,\n",
       "       0, 0, 0, 0, 0, 0, 0, 0, 0, 0, 0, 0, 0, 0, 0, 0, 0, 0, 0, 0, 0, 0,\n",
       "       0, 0, 0, 0, 0, 0, 0, 0, 0, 0, 0, 0, 0, 0], dtype=uint8)"
      ]
     },
     "execution_count": 13,
     "metadata": {},
     "output_type": "execute_result"
    }
   ],
   "source": [
    "x_train[0]"
   ]
  },
  {
   "cell_type": "markdown",
   "metadata": {},
   "source": [
    "# Making model "
   ]
  },
  {
   "cell_type": "markdown",
   "metadata": {},
   "source": [
    "First, I'd like to try guessing the number"
   ]
  },
  {
   "cell_type": "code",
   "execution_count": 14,
   "metadata": {},
   "outputs": [
    {
     "data": {
      "text/plain": [
       "10.025"
      ]
     },
     "execution_count": 14,
     "metadata": {},
     "output_type": "execute_result"
    }
   ],
   "source": [
    "from sklearn.metrics import accuracy_score\n",
    "\n",
    "def guess(x, y):\n",
    "    rand = []  \n",
    "    for i in range(x.shape[0]):\n",
    "        rand.append(np.random.randint(0,10))\n",
    "    \n",
    "    y = [np.argmax(i) for i in y]\n",
    "    acc = accuracy_score(y, rand) * 100\n",
    "    \n",
    "    return acc\n",
    "\n",
    "guess(x_train, y_train)"
   ]
  },
  {
   "cell_type": "markdown",
   "metadata": {},
   "source": [
    "Guessing have around 10% accuracy, like everyone can expect"
   ]
  },
  {
   "cell_type": "markdown",
   "metadata": {},
   "source": [
    "# Decision Tree"
   ]
  },
  {
   "cell_type": "code",
   "execution_count": 15,
   "metadata": {},
   "outputs": [],
   "source": [
    "from sklearn.tree import DecisionTreeClassifier\n",
    "\n",
    "model = DecisionTreeClassifier(criterion='entropy')\n",
    "model.fit(x_train, y_train)\n",
    "pred = model.predict(x_test)"
   ]
  },
  {
   "cell_type": "code",
   "execution_count": 16,
   "metadata": {},
   "outputs": [
    {
     "data": {
      "text/plain": [
       "89.55"
      ]
     },
     "execution_count": 16,
     "metadata": {},
     "output_type": "execute_result"
    }
   ],
   "source": [
    "acc = accuracy_score(y_test, pred) * 100\n",
    "acc"
   ]
  },
  {
   "cell_type": "markdown",
   "metadata": {},
   "source": [
    "It's significant better than guessing"
   ]
  },
  {
   "cell_type": "markdown",
   "metadata": {},
   "source": [
    "# Random Forest "
   ]
  },
  {
   "cell_type": "markdown",
   "metadata": {},
   "source": [
    "Let's check what number of n_estimators is best"
   ]
  },
  {
   "cell_type": "code",
   "execution_count": 17,
   "metadata": {},
   "outputs": [
    {
     "data": {
      "text/plain": [
       "GridSearchCV(cv=3, error_score='raise-deprecating',\n",
       "             estimator=RandomForestClassifier(bootstrap=True, class_weight=None,\n",
       "                                              criterion='gini', max_depth=None,\n",
       "                                              max_features='auto',\n",
       "                                              max_leaf_nodes=None,\n",
       "                                              min_impurity_decrease=0.0,\n",
       "                                              min_impurity_split=None,\n",
       "                                              min_samples_leaf=1,\n",
       "                                              min_samples_split=2,\n",
       "                                              min_weight_fraction_leaf=0.0,\n",
       "                                              n_estimators='warn', n_jobs=None,\n",
       "                                              oob_score=False,\n",
       "                                              random_state=None, verbose=0,\n",
       "                                              warm_start=False),\n",
       "             iid='warn', n_jobs=None,\n",
       "             param_grid={'n_estimators': [20, 50, 100]},\n",
       "             pre_dispatch='2*n_jobs', refit=True, return_train_score=False,\n",
       "             scoring=None, verbose=0)"
      ]
     },
     "execution_count": 17,
     "metadata": {},
     "output_type": "execute_result"
    }
   ],
   "source": [
    "from sklearn.ensemble import RandomForestClassifier\n",
    "from sklearn.model_selection import GridSearchCV\n",
    "\n",
    "parameters = {'n_estimators': [20, 50, 100]}\n",
    "\n",
    "forest = RandomForestClassifier()\n",
    "\n",
    "gridsearch = GridSearchCV(estimator=forest, param_grid=parameters, cv=3)\n",
    "\n",
    "best_model = gridsearch.fit(x_train, y_train)\n",
    "best_model"
   ]
  },
  {
   "cell_type": "code",
   "execution_count": 18,
   "metadata": {},
   "outputs": [
    {
     "data": {
      "text/plain": [
       "{'bootstrap': True,\n",
       " 'class_weight': None,\n",
       " 'criterion': 'gini',\n",
       " 'max_depth': None,\n",
       " 'max_features': 'auto',\n",
       " 'max_leaf_nodes': None,\n",
       " 'min_impurity_decrease': 0.0,\n",
       " 'min_impurity_split': None,\n",
       " 'min_samples_leaf': 1,\n",
       " 'min_samples_split': 2,\n",
       " 'min_weight_fraction_leaf': 0.0,\n",
       " 'n_estimators': 100,\n",
       " 'n_jobs': None,\n",
       " 'oob_score': False,\n",
       " 'random_state': None,\n",
       " 'verbose': 0,\n",
       " 'warm_start': False}"
      ]
     },
     "execution_count": 18,
     "metadata": {},
     "output_type": "execute_result"
    }
   ],
   "source": [
    "best_model.best_estimator_.get_params()"
   ]
  },
  {
   "cell_type": "code",
   "execution_count": 19,
   "metadata": {},
   "outputs": [
    {
     "data": {
      "text/plain": [
       "96.88"
      ]
     },
     "execution_count": 19,
     "metadata": {},
     "output_type": "execute_result"
    }
   ],
   "source": [
    "model = RandomForestClassifier(n_estimators=100)\n",
    "model.fit(x_train, y_train)\n",
    "pred = model.predict(x_test)\n",
    "acc = accuracy_score(y_test, pred) * 100\n",
    "acc"
   ]
  },
  {
   "cell_type": "markdown",
   "metadata": {},
   "source": [
    "# Neural network"
   ]
  },
  {
   "cell_type": "markdown",
   "metadata": {},
   "source": [
    "I need to change y's (outputs)"
   ]
  },
  {
   "cell_type": "code",
   "execution_count": 20,
   "metadata": {},
   "outputs": [
    {
     "data": {
      "text/plain": [
       "array([0., 0., 0., 0., 0., 1., 0., 0., 0., 0.], dtype=float32)"
      ]
     },
     "execution_count": 20,
     "metadata": {},
     "output_type": "execute_result"
    }
   ],
   "source": [
    "y_train = np_utils.to_categorical(y_train)\n",
    "y_test = np_utils.to_categorical(y_test)\n",
    "\n",
    "y_train[0]"
   ]
  },
  {
   "cell_type": "markdown",
   "metadata": {},
   "source": [
    "Create model"
   ]
  },
  {
   "cell_type": "code",
   "execution_count": 21,
   "metadata": {},
   "outputs": [],
   "source": [
    "from keras import models\n",
    "from keras import layers\n",
    "\n",
    "def create_model():\n",
    "    model = models.Sequential()\n",
    "    model.add(layers.Dense(256, activation=\"relu\", input_shape=(784,)))\n",
    "    model.add(layers.Dense(128, activation=\"relu\"))\n",
    "    model.add(layers.Dense(10, activation=\"softmax\"))\n",
    "    model.compile(loss=\"categorical_crossentropy\", optimizer=\"adam\", metrics=[\"accuracy\"])\n",
    "    return model\n",
    "\n",
    "model = create_model()"
   ]
  },
  {
   "cell_type": "markdown",
   "metadata": {},
   "source": [
    "I need validation data also for better view of results"
   ]
  },
  {
   "cell_type": "code",
   "execution_count": 22,
   "metadata": {},
   "outputs": [],
   "source": [
    "import math\n",
    "\n",
    "x_val = x_train[math.ceil(x_train.shape[0] * .7) :]\n",
    "y_val = y_train[math.ceil(y_train.shape[0] * .7) :]\n",
    "x_train = x_train[: math.ceil(x_train.shape[0] * .7)]\n",
    "y_train = y_train[: math.ceil(y_train.shape[0] * .7)]"
   ]
  },
  {
   "cell_type": "code",
   "execution_count": 23,
   "metadata": {},
   "outputs": [
    {
     "name": "stdout",
     "output_type": "stream",
     "text": [
      "Train on 42000 samples, validate on 18000 samples\n",
      "Epoch 1/10\n",
      "42000/42000 [==============================] - 2s 41us/step - loss: 0.3317 - accuracy: 0.9017 - val_loss: 0.1977 - val_accuracy: 0.9383\n",
      "Epoch 2/10\n",
      "42000/42000 [==============================] - 2s 37us/step - loss: 0.1411 - accuracy: 0.9567 - val_loss: 0.1644 - val_accuracy: 0.9486\n",
      "Epoch 3/10\n",
      "42000/42000 [==============================] - 2s 42us/step - loss: 0.0941 - accuracy: 0.9710 - val_loss: 0.1245 - val_accuracy: 0.9636\n",
      "Epoch 4/10\n",
      "42000/42000 [==============================] - 2s 40us/step - loss: 0.0707 - accuracy: 0.9778 - val_loss: 0.1322 - val_accuracy: 0.9626\n",
      "Epoch 5/10\n",
      "42000/42000 [==============================] - 2s 37us/step - loss: 0.0503 - accuracy: 0.9846 - val_loss: 0.1314 - val_accuracy: 0.9620\n",
      "Epoch 6/10\n",
      "42000/42000 [==============================] - 2s 39us/step - loss: 0.0398 - accuracy: 0.9871 - val_loss: 0.1299 - val_accuracy: 0.9634\n",
      "Epoch 7/10\n",
      "42000/42000 [==============================] - 2s 39us/step - loss: 0.0316 - accuracy: 0.9901 - val_loss: 0.1140 - val_accuracy: 0.9683\n",
      "Epoch 8/10\n",
      "42000/42000 [==============================] - 2s 41us/step - loss: 0.0245 - accuracy: 0.9917 - val_loss: 0.1161 - val_accuracy: 0.9684\n",
      "Epoch 9/10\n",
      "42000/42000 [==============================] - 2s 42us/step - loss: 0.0179 - accuracy: 0.9945 - val_loss: 0.1121 - val_accuracy: 0.9703\n",
      "Epoch 10/10\n",
      "42000/42000 [==============================] - 2s 39us/step - loss: 0.0152 - accuracy: 0.9952 - val_loss: 0.1423 - val_accuracy: 0.9660\n"
     ]
    }
   ],
   "source": [
    "history = model.fit(x_train, y_train, epochs=10, verbose=1, batch_size=128, validation_data=(x_val, y_val))"
   ]
  },
  {
   "cell_type": "code",
   "execution_count": 24,
   "metadata": {},
   "outputs": [
    {
     "data": {
      "text/plain": [
       "96.66"
      ]
     },
     "execution_count": 24,
     "metadata": {},
     "output_type": "execute_result"
    }
   ],
   "source": [
    "pred = model.predict(x_test)\n",
    "pred_max = [np.argmax(i) for i in pred]\n",
    "y_test_max = [np.argmax(i) for i in y_test]\n",
    "acc = accuracy_score(y_test_max, pred_max) * 100\n",
    "acc"
   ]
  },
  {
   "cell_type": "markdown",
   "metadata": {},
   "source": [
    "Visualize training history"
   ]
  },
  {
   "cell_type": "code",
   "execution_count": 25,
   "metadata": {},
   "outputs": [],
   "source": [
    "training_loss = history.history[\"loss\"]\n",
    "val_loss = history.history[\"val_loss\"]\n",
    "epochs = range(1, len(training_loss)+1)"
   ]
  },
  {
   "cell_type": "code",
   "execution_count": 26,
   "metadata": {},
   "outputs": [
    {
     "data": {
      "image/png": "[encoded data removed]",
      "text/plain": [
       "<Figure size 432x288 with 1 Axes>"
      ]
     },
     "metadata": {
      "needs_background": "light"
     },
     "output_type": "display_data"
    }
   ],
   "source": [
    "plt.plot(epochs, training_loss, \"b\")\n",
    "plt.plot(epochs, val_loss, \"r\")\n",
    "plt.title(\"Loss by epochs\")\n",
    "plt.legend([\"Training\", \"Validation\"])\n",
    "plt.xlabel(\"epochs\")\n",
    "plt.ylabel(\"loss\")\n",
    "plt.show()"
   ]
  },
  {
   "cell_type": "code",
   "execution_count": 27,
   "metadata": {},
   "outputs": [],
   "source": [
    "training_acc = history.history[\"accuracy\"]\n",
    "val_acc = history.history[\"val_accuracy\"]"
   ]
  },
  {
   "cell_type": "code",
   "execution_count": 28,
   "metadata": {},
   "outputs": [
    {
     "data": {
      "image/png": "[encoded data removed]",
      "text/plain": [
       "<Figure size 432x288 with 1 Axes>"
      ]
     },
     "metadata": {
      "needs_background": "light"
     },
     "output_type": "display_data"
    }
   ],
   "source": [
    "plt.plot(epochs, training_acc, \"b\")\n",
    "plt.plot(epochs, val_acc, \"r\")\n",
    "plt.title(\"Accuracy by epochs\")\n",
    "plt.legend([\"Training\", \"Validation\"])\n",
    "plt.xlabel(\"epochs\")\n",
    "plt.ylabel(\"acc\")\n",
    "plt.show()"
   ]
  },
  {
   "cell_type": "markdown",
   "metadata": {},
   "source": [
    "I can see here an overfitting."
   ]
  },
  {
   "cell_type": "markdown",
   "metadata": {},
   "source": [
    "I will try kernel regularizers to deal with overfitting"
   ]
  },
  {
   "cell_type": "code",
   "execution_count": 29,
   "metadata": {},
   "outputs": [
    {
     "name": "stdout",
     "output_type": "stream",
     "text": [
      "Train on 42000 samples, validate on 18000 samples\n",
      "Epoch 1/20\n",
      "42000/42000 [==============================] - 2s 54us/step - loss: 1.6243 - accuracy: 0.8770 - val_loss: 0.6868 - val_accuracy: 0.8989\n",
      "Epoch 2/20\n",
      "42000/42000 [==============================] - 2s 41us/step - loss: 0.5705 - accuracy: 0.9175 - val_loss: 0.5289 - val_accuracy: 0.9124\n",
      "Epoch 3/20\n",
      "42000/42000 [==============================] - 2s 41us/step - loss: 0.4887 - accuracy: 0.9261 - val_loss: 0.4836 - val_accuracy: 0.9178\n",
      "Epoch 4/20\n",
      "42000/42000 [==============================] - 2s 45us/step - loss: 0.4580 - accuracy: 0.9307 - val_loss: 0.4338 - val_accuracy: 0.9343\n",
      "Epoch 5/20\n",
      "42000/42000 [==============================] - 2s 47us/step - loss: 0.4260 - accuracy: 0.9371 - val_loss: 0.4103 - val_accuracy: 0.9399\n",
      "Epoch 6/20\n",
      "42000/42000 [==============================] - 2s 49us/step - loss: 0.4050 - accuracy: 0.9414 - val_loss: 0.4042 - val_accuracy: 0.9365\n",
      "Epoch 7/20\n",
      "42000/42000 [==============================] - 2s 41us/step - loss: 0.3895 - accuracy: 0.9426 - val_loss: 0.3878 - val_accuracy: 0.9397\n",
      "Epoch 8/20\n",
      "42000/42000 [==============================] - 2s 43us/step - loss: 0.3755 - accuracy: 0.9447 - val_loss: 0.3850 - val_accuracy: 0.9372\n",
      "Epoch 9/20\n",
      "42000/42000 [==============================] - 2s 46us/step - loss: 0.3647 - accuracy: 0.9454 - val_loss: 0.3509 - val_accuracy: 0.9478\n",
      "Epoch 10/20\n",
      "42000/42000 [==============================] - 2s 43us/step - loss: 0.3485 - accuracy: 0.9495 - val_loss: 0.3546 - val_accuracy: 0.9447\n",
      "Epoch 11/20\n",
      "42000/42000 [==============================] - 2s 39us/step - loss: 0.3408 - accuracy: 0.9501 - val_loss: 0.3552 - val_accuracy: 0.9420\n",
      "Epoch 12/20\n",
      "42000/42000 [==============================] - 2s 42us/step - loss: 0.3309 - accuracy: 0.9518 - val_loss: 0.3570 - val_accuracy: 0.9379\n",
      "Epoch 13/20\n",
      "42000/42000 [==============================] - 2s 41us/step - loss: 0.3235 - accuracy: 0.9527 - val_loss: 0.3250 - val_accuracy: 0.9481\n",
      "Epoch 14/20\n",
      "42000/42000 [==============================] - 2s 42us/step - loss: 0.3142 - accuracy: 0.9533 - val_loss: 0.3323 - val_accuracy: 0.9442\n",
      "Epoch 15/20\n",
      "42000/42000 [==============================] - 2s 47us/step - loss: 0.3113 - accuracy: 0.9539 - val_loss: 0.3124 - val_accuracy: 0.9534\n",
      "Epoch 16/20\n",
      "42000/42000 [==============================] - 2s 45us/step - loss: 0.3021 - accuracy: 0.9550 - val_loss: 0.3066 - val_accuracy: 0.9503\n",
      "Epoch 17/20\n",
      "42000/42000 [==============================] - 2s 46us/step - loss: 0.2968 - accuracy: 0.9554 - val_loss: 0.3193 - val_accuracy: 0.9454\n",
      "Epoch 18/20\n",
      "42000/42000 [==============================] - 2s 39us/step - loss: 0.2931 - accuracy: 0.9554 - val_loss: 0.3061 - val_accuracy: 0.9488\n",
      "Epoch 19/20\n",
      "42000/42000 [==============================] - 2s 44us/step - loss: 0.2872 - accuracy: 0.9574 - val_loss: 0.3165 - val_accuracy: 0.9439\n",
      "Epoch 20/20\n",
      "42000/42000 [==============================] - 2s 49us/step - loss: 0.2824 - accuracy: 0.9569 - val_loss: 0.2901 - val_accuracy: 0.9541\n"
     ]
    }
   ],
   "source": [
    "from keras import regularizers\n",
    "\n",
    "def create_model():\n",
    "    model = models.Sequential()\n",
    "    model.add(layers.Dense(256, activation=\"relu\", kernel_regularizer=regularizers.l2(0.01), input_shape=(784,)))\n",
    "    model.add(layers.Dense(128, activation=\"relu\", kernel_regularizer=regularizers.l2(0.01)))\n",
    "    model.add(layers.Dense(10, activation=\"softmax\"))\n",
    "    model.compile(loss=\"categorical_crossentropy\", optimizer=\"adam\", metrics=[\"accuracy\"])\n",
    "    return model\n",
    "\n",
    "model = create_model()\n",
    "history = model.fit(x_train, y_train, epochs=20, verbose=1, batch_size=128, validation_data=(x_val, y_val))"
   ]
  },
  {
   "cell_type": "code",
   "execution_count": 30,
   "metadata": {},
   "outputs": [
    {
     "data": {
      "text/plain": [
       "95.97"
      ]
     },
     "execution_count": 30,
     "metadata": {},
     "output_type": "execute_result"
    }
   ],
   "source": [
    "pred = model.predict(x_test)\n",
    "pred_max = [np.argmax(i) for i in pred]\n",
    "y_test_max = [np.argmax(i) for i in y_test]\n",
    "acc = accuracy_score(y_test_max, pred_max) * 100\n",
    "acc"
   ]
  },
  {
   "cell_type": "code",
   "execution_count": 31,
   "metadata": {},
   "outputs": [
    {
     "data": {
      "image/png": "[encoded data removed]",
      "text/plain": [
       "<Figure size 432x288 with 1 Axes>"
      ]
     },
     "metadata": {
      "needs_background": "light"
     },
     "output_type": "display_data"
    }
   ],
   "source": [
    "training_loss = history.history[\"loss\"]\n",
    "val_loss = history.history[\"val_loss\"]\n",
    "epochs = range(1, len(training_loss)+1)\n",
    "plt.plot(epochs, training_loss, \"b\")\n",
    "plt.plot(epochs, val_loss, \"r\")\n",
    "plt.title(\"Loss by epochs\")\n",
    "plt.legend([\"Training\", \"Validation\"])\n",
    "plt.xlabel(\"epochs\")\n",
    "plt.ylabel(\"loss\")\n",
    "plt.show()"
   ]
  },
  {
   "cell_type": "markdown",
   "metadata": {},
   "source": [
    "It helped with overfitting but not so much"
   ]
  },
  {
   "cell_type": "markdown",
   "metadata": {},
   "source": [
    "So i will try dropout"
   ]
  },
  {
   "cell_type": "code",
   "execution_count": 32,
   "metadata": {},
   "outputs": [
    {
     "name": "stdout",
     "output_type": "stream",
     "text": [
      "Train on 42000 samples, validate on 18000 samples\n",
      "Epoch 1/10\n",
      "42000/42000 [==============================] - 2s 58us/step - loss: 1.7022 - accuracy: 0.8539 - val_loss: 0.6840 - val_accuracy: 0.8970\n",
      "Epoch 2/10\n",
      "42000/42000 [==============================] - 2s 55us/step - loss: 0.6075 - accuracy: 0.9075 - val_loss: 0.5133 - val_accuracy: 0.9255\n",
      "Epoch 3/10\n",
      "42000/42000 [==============================] - 2s 51us/step - loss: 0.5386 - accuracy: 0.9149 - val_loss: 0.4809 - val_accuracy: 0.9311\n",
      "Epoch 4/10\n",
      "42000/42000 [==============================] - 2s 56us/step - loss: 0.5109 - accuracy: 0.9186 - val_loss: 0.4589 - val_accuracy: 0.9357\n",
      "Epoch 5/10\n",
      "42000/42000 [==============================] - 2s 51us/step - loss: 0.4835 - accuracy: 0.9242 - val_loss: 0.4554 - val_accuracy: 0.9333\n",
      "Epoch 6/10\n",
      "42000/42000 [==============================] - 2s 50us/step - loss: 0.4711 - accuracy: 0.9271 - val_loss: 0.4486 - val_accuracy: 0.9313\n",
      "Epoch 7/10\n",
      "42000/42000 [==============================] - 2s 48us/step - loss: 0.4542 - accuracy: 0.9278 - val_loss: 0.4034 - val_accuracy: 0.9429\n",
      "Epoch 8/10\n",
      "42000/42000 [==============================] - 2s 53us/step - loss: 0.4475 - accuracy: 0.9307 - val_loss: 0.4078 - val_accuracy: 0.9383\n",
      "Epoch 9/10\n",
      "42000/42000 [==============================] - 2s 48us/step - loss: 0.4356 - accuracy: 0.9314 - val_loss: 0.3958 - val_accuracy: 0.9398\n",
      "Epoch 10/10\n",
      "42000/42000 [==============================] - 2s 52us/step - loss: 0.4242 - accuracy: 0.9339 - val_loss: 0.4014 - val_accuracy: 0.9375\n"
     ]
    }
   ],
   "source": [
    "def create_model():\n",
    "    model = models.Sequential()\n",
    "    model.add(layers.Dense(256, activation=\"relu\", kernel_regularizer=regularizers.l2(0.01), input_shape=(784,)))\n",
    "    model.add(layers.Dropout(0.2))\n",
    "    model.add(layers.Dense(128, activation=\"relu\", kernel_regularizer=regularizers.l2(0.01)))\n",
    "    model.add(layers.Dropout(0.2))\n",
    "    model.add(layers.Dense(10, activation=\"softmax\"))\n",
    "    model.compile(loss=\"categorical_crossentropy\", optimizer=\"adam\", metrics=[\"accuracy\"])\n",
    "    return model\n",
    "\n",
    "model = create_model()\n",
    "history = model.fit(x_train, y_train, epochs=10, verbose=1, batch_size=128, validation_data=(x_val, y_val))"
   ]
  },
  {
   "cell_type": "code",
   "execution_count": 33,
   "metadata": {},
   "outputs": [
    {
     "data": {
      "text/plain": [
       "93.8"
      ]
     },
     "execution_count": 33,
     "metadata": {},
     "output_type": "execute_result"
    }
   ],
   "source": [
    "pred = model.predict(x_test)\n",
    "pred_max = [np.argmax(i) for i in pred]\n",
    "y_test_max = [np.argmax(i) for i in y_test]\n",
    "acc = accuracy_score(y_test_max, pred_max) * 100\n",
    "acc"
   ]
  },
  {
   "cell_type": "markdown",
   "metadata": {},
   "source": [
    "First model was the best one (the simplest one)"
   ]
  },
  {
   "cell_type": "markdown",
   "metadata": {},
   "source": [
    "Maybe this task isn't so complicated and doesn't need unnecessary complications"
   ]
  },
  {
   "cell_type": "markdown",
   "metadata": {},
   "source": [
    "# Convolution neural network"
   ]
  },
  {
   "cell_type": "markdown",
   "metadata": {},
   "source": [
    "First i need to reshape my data"
   ]
  },
  {
   "cell_type": "code",
   "execution_count": 34,
   "metadata": {},
   "outputs": [],
   "source": [
    "x_train = x_train.reshape(x_train.shape[0], 28, 28, 1)\n",
    "x_val = x_val.reshape(x_val.shape[0], 28, 28, 1)\n",
    "x_test = x_test.reshape(x_test.shape[0], 28, 28, 1)"
   ]
  },
  {
   "cell_type": "code",
   "execution_count": 35,
   "metadata": {},
   "outputs": [],
   "source": [
    "from keras import optimizers\n",
    "\n",
    "def create_model():\n",
    "    model = models.Sequential()\n",
    "    model.add(layers.Conv2D(32, (3, 3), activation=\"relu\", kernel_initializer='he_uniform', input_shape=(28, 28, 1)))\n",
    "    model.add(layers.MaxPooling2D((2,2)))\n",
    "    model.add(layers.Conv2D(64, (3, 3), activation=\"relu\", kernel_initializer='he_uniform'))\n",
    "    model.add(layers.Conv2D(64, (3, 3), activation=\"relu\", kernel_initializer='he_uniform'))\n",
    "    model.add(layers.MaxPooling2D((2,2)))\n",
    "    model.add(layers.Flatten())\n",
    "    model.add(layers.Dense(128, activation=\"relu\"))\n",
    "    model.add(layers.Dense(10, activation=\"softmax\"))\n",
    "    \n",
    "    sgd = optimizers.SGD(lr=0.01, momentum=0.9)\n",
    "    model.compile(loss=\"categorical_crossentropy\", optimizer=sgd, metrics=[\"accuracy\"])\n",
    "    return model"
   ]
  },
  {
   "cell_type": "code",
   "execution_count": 36,
   "metadata": {},
   "outputs": [
    {
     "name": "stdout",
     "output_type": "stream",
     "text": [
      "Train on 42000 samples, validate on 18000 samples\n",
      "Epoch 1/10\n",
      "42000/42000 [==============================] - 30s 724us/step - loss: 0.2819 - accuracy: 0.9112 - val_loss: 0.0986 - val_accuracy: 0.9694\n",
      "Epoch 2/10\n",
      "42000/42000 [==============================] - 30s 721us/step - loss: 0.0860 - accuracy: 0.9736 - val_loss: 0.0825 - val_accuracy: 0.9746\n",
      "Epoch 3/10\n",
      "42000/42000 [==============================] - 30s 717us/step - loss: 0.0630 - accuracy: 0.9802 - val_loss: 0.0716 - val_accuracy: 0.9785\n",
      "Epoch 4/10\n",
      "42000/42000 [==============================] - 34s 804us/step - loss: 0.0502 - accuracy: 0.9837 - val_loss: 0.0647 - val_accuracy: 0.9812\n",
      "Epoch 5/10\n",
      "42000/42000 [==============================] - 33s 781us/step - loss: 0.0394 - accuracy: 0.9872 - val_loss: 0.0595 - val_accuracy: 0.9820\n",
      "Epoch 6/10\n",
      "42000/42000 [==============================] - 31s 744us/step - loss: 0.0314 - accuracy: 0.9901 - val_loss: 0.0611 - val_accuracy: 0.9822\n",
      "Epoch 7/10\n",
      "42000/42000 [==============================] - 33s 785us/step - loss: 0.0270 - accuracy: 0.9916 - val_loss: 0.0620 - val_accuracy: 0.9820\n",
      "Epoch 8/10\n",
      "42000/42000 [==============================] - 31s 745us/step - loss: 0.0222 - accuracy: 0.9930 - val_loss: 0.0629 - val_accuracy: 0.9823\n",
      "Epoch 9/10\n",
      "42000/42000 [==============================] - 34s 814us/step - loss: 0.0183 - accuracy: 0.9939 - val_loss: 0.0592 - val_accuracy: 0.9838\n",
      "Epoch 10/10\n",
      "42000/42000 [==============================] - 33s 790us/step - loss: 0.0142 - accuracy: 0.9955 - val_loss: 0.0615 - val_accuracy: 0.9831\n"
     ]
    }
   ],
   "source": [
    "model = create_model()\n",
    "\n",
    "history = model.fit(x_train, y_train, epochs=10, verbose=1, batch_size=128, validation_data=(x_val, y_val))"
   ]
  },
  {
   "cell_type": "code",
   "execution_count": 37,
   "metadata": {},
   "outputs": [
    {
     "data": {
      "text/plain": [
       "98.47"
      ]
     },
     "execution_count": 37,
     "metadata": {},
     "output_type": "execute_result"
    }
   ],
   "source": [
    "pred = model.predict(x_test)\n",
    "pred_max = [np.argmax(i) for i in pred]\n",
    "y_test_max = [np.argmax(i) for i in y_test]\n",
    "acc = accuracy_score(y_test_max, pred_max) * 100\n",
    "acc"
   ]
  },
  {
   "cell_type": "code",
   "execution_count": 38,
   "metadata": {},
   "outputs": [
    {
     "data": {
      "image/png": "[encoded data removed]",
      "text/plain": [
       "<Figure size 432x288 with 1 Axes>"
      ]
     },
     "metadata": {
      "needs_background": "light"
     },
     "output_type": "display_data"
    }
   ],
   "source": [
    "training_loss = history.history[\"loss\"]\n",
    "val_loss = history.history[\"val_loss\"]\n",
    "epochs = range(1, len(training_loss)+1)\n",
    "plt.plot(epochs, training_loss, \"b\")\n",
    "plt.plot(epochs, val_loss, \"r\")\n",
    "plt.title(\"Loss by epochs\")\n",
    "plt.legend([\"Training\", \"Validation\"])\n",
    "plt.xlabel(\"epochs\")\n",
    "plt.ylabel(\"loss\")\n",
    "plt.show()"
   ]
  },
  {
   "cell_type": "markdown",
   "metadata": {},
   "source": [
    "I think it's pretty good score "
   ]
  },
  {
   "cell_type": "markdown",
   "metadata": {},
   "source": [
    "I was inspired by vgg16 creating this model"
   ]
  },
  {
   "cell_type": "markdown",
   "metadata": {},
   "source": [
    "# I made some images with my progam Draw.py"
   ]
  },
  {
   "cell_type": "markdown",
   "metadata": {},
   "source": [
    "Some of them"
   ]
  },
  {
   "cell_type": "code",
   "execution_count": 70,
   "metadata": {},
   "outputs": [
    {
     "data": {
      "image/png": "[encoded data removed]",
      "text/plain": [
       "<Figure size 1152x576 with 4 Axes>"
      ]
     },
     "metadata": {
      "needs_background": "light"
     },
     "output_type": "display_data"
    }
   ],
   "source": [
    "from numpy import loadtxt\n",
    "\n",
    "image = []\n",
    "image_label = []\n",
    "number = 0\n",
    "amount = 1\n",
    "for i in range(200):\n",
    "    image.append(loadtxt('images/{}/data_{}.csv'.format(number, amount), delimiter=','))\n",
    "    image_label.append(number)\n",
    "    amount += 1\n",
    "    if amount%21 == 0:\n",
    "        number += 1\n",
    "        amount = 1\n",
    "image = np.array(image)\n",
    "image_label = np.array(image_label)\n",
    "\n",
    "plt.figure(figsize=(16,8))\n",
    "for i in range(4):\n",
    "    plt.subplot(2,2,i+1)\n",
    "    plt.imshow(image[i*20], cmap='gray')\n",
    "plt.show()"
   ]
  },
  {
   "cell_type": "code",
   "execution_count": 71,
   "metadata": {},
   "outputs": [
    {
     "data": {
      "text/plain": [
       "(200, 28, 28)"
      ]
     },
     "execution_count": 71,
     "metadata": {},
     "output_type": "execute_result"
    }
   ],
   "source": [
    "image.shape"
   ]
  },
  {
   "cell_type": "code",
   "execution_count": 72,
   "metadata": {},
   "outputs": [
    {
     "data": {
      "text/plain": [
       "(200, 28, 28, 1)"
      ]
     },
     "execution_count": 72,
     "metadata": {},
     "output_type": "execute_result"
    }
   ],
   "source": [
    "image = image.reshape(image.shape[0], image.shape[1], image.shape[2], 1)\n",
    "image.shape"
   ]
  },
  {
   "cell_type": "code",
   "execution_count": 73,
   "metadata": {},
   "outputs": [
    {
     "data": {
      "text/plain": [
       "array([0, 0, 0, 0, 0, 0, 0, 0, 0, 0, 0, 0, 0, 0, 0, 0, 0, 0, 0, 0, 1, 1,\n",
       "       1, 1, 1, 1, 1, 1, 1, 1, 1, 1, 1, 1, 1, 1, 1, 1, 1, 1, 2, 2, 2, 2,\n",
       "       2, 2, 2, 2, 2, 2, 2, 2, 2, 2, 2, 2, 2, 2, 2, 2, 3, 3, 3, 3, 3, 3,\n",
       "       3, 3, 3, 3, 3, 3, 3, 3, 3, 3, 3, 3, 3, 3, 4, 4, 4, 4, 4, 4, 4, 4,\n",
       "       4, 4, 4, 4, 4, 4, 4, 4, 4, 4, 4, 4, 5, 5, 5, 5, 5, 5, 5, 5, 5, 5,\n",
       "       5, 5, 5, 5, 5, 5, 5, 5, 5, 5, 6, 6, 6, 6, 6, 6, 6, 6, 6, 6, 6, 6,\n",
       "       6, 6, 6, 6, 6, 6, 6, 6, 7, 7, 7, 7, 7, 7, 7, 7, 7, 7, 7, 7, 7, 7,\n",
       "       7, 7, 7, 7, 7, 7, 8, 8, 8, 8, 8, 8, 8, 8, 8, 8, 8, 8, 8, 8, 8, 8,\n",
       "       8, 8, 8, 8, 9, 9, 9, 9, 9, 9, 9, 9, 9, 9, 9, 9, 9, 9, 9, 9, 9, 9,\n",
       "       9, 9])"
      ]
     },
     "execution_count": 73,
     "metadata": {},
     "output_type": "execute_result"
    }
   ],
   "source": [
    "image_label"
   ]
  },
  {
   "cell_type": "code",
   "execution_count": 122,
   "metadata": {},
   "outputs": [
    {
     "data": {
      "text/plain": [
       "[2, 2, 2, 2, 2, 2, 2, 2, 2, 2, 2, 7, 7, 7, 2, 2, 2, 2, 2, 2]"
      ]
     },
     "execution_count": 122,
     "metadata": {},
     "output_type": "execute_result"
    }
   ],
   "source": [
    "pred = []\n",
    "[pred.append(model.predict(image[i*20:(i+1)*20])) for i in range(10)]\n",
    "\n",
    "pred = np.array(pred)\n",
    "predict = []\n",
    "for i in range(pred.shape[0]):\n",
    "    for j in range(pred.shape[1]):\n",
    "        predict.append(np.argmax(pred[i][j]))"
   ]
  },
  {
   "cell_type": "code",
   "execution_count": 130,
   "metadata": {},
   "outputs": [
    {
     "name": "stdout",
     "output_type": "stream",
     "text": [
      "0: 0.5 accuracy\n",
      "1: 0.4 accuracy\n",
      "2: 0.85 accuracy\n",
      "3: 0.85 accuracy\n",
      "4: 0.9 accuracy\n",
      "5: 0.85 accuracy\n",
      "6: 0.1 accuracy\n",
      "7: 0.75 accuracy\n",
      "8: 0.65 accuracy\n",
      "9: 0.6 accuracy\n"
     ]
    }
   ],
   "source": [
    "correct = []\n",
    "[correct.append(accuracy_score(predict[i*20:(i+1)*20], image_label[i*20:(i+1)*20])) for i in range(10)]\n",
    "correct = np.array(correct)\n",
    "\n",
    "for i in range(len(correct)):\n",
    "    print('{}: {} accuracy'.format(i, correct[i]))"
   ]
  },
  {
   "cell_type": "markdown",
   "metadata": {},
   "source": [
    "Model had problems with 0, 1 and 6. "
   ]
  },
  {
   "cell_type": "code",
   "execution_count": 131,
   "metadata": {},
   "outputs": [
    {
     "data": {
      "text/plain": [
       "0.645"
      ]
     },
     "execution_count": 131,
     "metadata": {},
     "output_type": "execute_result"
    }
   ],
   "source": [
    "correct.mean()"
   ]
  },
  {
   "cell_type": "markdown",
   "metadata": {},
   "source": [
    "It is not good score"
   ]
  }
 ],
 "metadata": {
  "kernelspec": {
   "display_name": "Python 3",
   "language": "python",
   "name": "python3"
  },
  "language_info": {
   "codemirror_mode": {
    "name": "ipython",
    "version": 3
   },
   "file_extension": ".py",
   "mimetype": "text/x-python",
   "name": "python",
   "nbconvert_exporter": "python",
   "pygments_lexer": "ipython3",
   "version": "3.7.3"
  }
 },
 "nbformat": 4,
 "nbformat_minor": 2
}
